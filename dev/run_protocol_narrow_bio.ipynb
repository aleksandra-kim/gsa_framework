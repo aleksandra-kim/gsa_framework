{
 "cells": [
  {
   "cell_type": "code",
   "execution_count": null,
   "metadata": {},
   "outputs": [],
   "source": [
    "import bw2data as bd\n",
    "import bw2calc as bc\n",
    "import bw2io as bi\n",
    "import stats_arrays as sa\n",
    "import numpy as np\n",
    "from copy import deepcopy\n",
    "from pathlib import Path\n",
    "\n",
    "from gsa_framework.models import LCAModel\n",
    "from gsa_framework.convergence_robustness_validation import Validation\n",
    "from gsa_framework.utils import read_pickle, read_hdf5_array\n",
    "from gsa_framework.visualization.plotting import *\n",
    "\n",
    "from setups_paper_gwp import *\n",
    "\n",
    "project = \"GSA for protocol narrow bio\"\n",
    "# bd.projects.delete_project(project, delete_dir=True)\n",
    "bd.projects.set_current(project)"
   ]
  },
  {
   "cell_type": "markdown",
   "metadata": {},
   "source": [
    "# 1. Narrow down all incorrect bio exchanges"
   ]
  },
  {
   "cell_type": "code",
   "execution_count": null,
   "metadata": {
    "scrolled": true
   },
   "outputs": [],
   "source": [
    "# bi = bd.Database(\"biosphere3\")\n",
    "# ei = bd.Database(\"ecoinvent 3.7.1 cutoff\")\n",
    "\n",
    "# co = bd.Database(\"CH consumption 1.0\")\n",
    "# demand_act = [act for act in co if \"Food\" in act[\"name\"]]\n",
    "# assert len(demand_act) == 1\n",
    "# demand_act = demand_act[0]\n",
    "# demand = {demand_act: 1}\n",
    "# method = (\"IPCC 2013\", \"climate change\", \"GWP 100a\", \"uncertain\")\n",
    "# lca = bc.LCA(demand, method)\n",
    "# lca.lci()\n",
    "# lca.lcia()\n",
    "# lca.score"
   ]
  },
  {
   "cell_type": "code",
   "execution_count": null,
   "metadata": {
    "scrolled": true
   },
   "outputs": [],
   "source": [
    "# bio_params_normal = lca.bio_params[np.logical_and(\n",
    "#     lca.bio_params['uncertainty_type']==sa.NormalUncertainty.id,\n",
    "#     lca.bio_params['scale']==0.7383766,\n",
    "# )]\n",
    "\n",
    "# cols = bio_params_normal['col']\n",
    "# acts = [bd.get_activity(lca.reverse_dict()[0][col]) for col in cols]"
   ]
  },
  {
   "cell_type": "code",
   "execution_count": null,
   "metadata": {},
   "outputs": [],
   "source": [
    "# assert len(set(bio_params_normal['row'])) == 1\n",
    "# co2_ind = bio_params_normal['row'][0]\n",
    "# co2_act = bd.get_activity(lca.reverse_dict()[2][co2_ind])\n",
    "# co2_act.key"
   ]
  },
  {
   "cell_type": "code",
   "execution_count": null,
   "metadata": {
    "scrolled": true
   },
   "outputs": [],
   "source": [
    "# for act in acts:\n",
    "#     print(act['name'])\n",
    "#     count = 0\n",
    "#     for exc in act.exchanges():\n",
    "#         if exc.input == co2_act and exc['uncertainty type']==sa.NormalUncertainty.id:\n",
    "#             dict_ = {\n",
    "#                 \"input\": (co2_act['database'], co2_act['code']), \n",
    "#                 \"amount\": deepcopy(exc.amount),\n",
    "#                 \"type\": \"biosphere\",\n",
    "#                 \"uncertainty type\": sa.LognormalUncertainty.id,\n",
    "#                 \"loc\": np.log(exc['loc']),\n",
    "#                 \"scale\": exc['scale'],\n",
    "#             }\n",
    "#             count += 1\n",
    "#             break\n",
    "#     assert count == 1\n",
    "#     act.new_exchange(**dict_).save()\n",
    "#     print(\"   deleting {}\".format(exc.input['name']))\n",
    "#     exc.delete()"
   ]
  },
  {
   "cell_type": "code",
   "execution_count": null,
   "metadata": {},
   "outputs": [],
   "source": [
    "# lca2 = bc.LCA(demand, method)\n",
    "# lca2.lci()\n",
    "# lca2.lcia()\n",
    "# print(lca2.score)\n",
    "\n",
    "# bio_params_normal2 = lca2.bio_params[np.logical_and(\n",
    "#     lca2.bio_params['uncertainty_type']==sa.NormalUncertainty.id,\n",
    "#     lca2.bio_params['scale']==0.7383766,\n",
    "# )]\n",
    "# print(len(bio_params_normal2))\n",
    "\n",
    "# bio_params_lognormal = lca2.bio_params[lca2.bio_params['scale']==0.7383766]\n",
    "# len(bio_params_lognormal)"
   ]
  },
  {
   "cell_type": "code",
   "execution_count": null,
   "metadata": {},
   "outputs": [],
   "source": [
    "# bio_params_lognormal"
   ]
  },
  {
   "cell_type": "code",
   "execution_count": null,
   "metadata": {},
   "outputs": [],
   "source": [
    "# lca2.bio_params[lca2.bio_params['row']==co2_ind]"
   ]
  },
  {
   "cell_type": "markdown",
   "metadata": {},
   "source": [
    "# Run MC when everything varies"
   ]
  },
  {
   "cell_type": "code",
   "execution_count": null,
   "metadata": {},
   "outputs": [],
   "source": [
    "path_base = Path('/data/user/kim_a')\n",
    "num_params = None\n",
    "model, write_dir, gsa_seed = setup_lca_model_protocol_narrow_bio(\n",
    "    path_base,\n",
    "    num_params=num_params,\n",
    "    write_dir=None,\n",
    ")"
   ]
  },
  {
   "cell_type": "code",
   "execution_count": null,
   "metadata": {},
   "outputs": [],
   "source": [
    "default_uncertain_amounts = np.hstack([\n",
    "    v for v in model.default_uncertain_amounts.values()\n",
    "])"
   ]
  },
  {
   "cell_type": "code",
   "execution_count": null,
   "metadata": {},
   "outputs": [],
   "source": [
    "%%time\n",
    "iterations_validation = 2000\n",
    "validation_seed = 100023423\n",
    "lca_scores_axis_title = r\"$\\text{LCA scores, [kg CO}_2\\text{-eq}]$\"\n",
    "if __name__ == \"__main__\":\n",
    "    val = Validation(\n",
    "        model=model,\n",
    "        iterations=iterations_validation,\n",
    "        seed=validation_seed,\n",
    "        default_x_rescaled=default_uncertain_amounts,\n",
    "        write_dir=write_dir,\n",
    "        model_output_name=lca_scores_axis_title,\n",
    "    ) "
   ]
  },
  {
   "cell_type": "code",
   "execution_count": null,
   "metadata": {},
   "outputs": [],
   "source": [
    "fp_original = Path(\"/data/user/kim_a/protocol_gsa/arrays\") / \"validation.Y.all.2000.100023423.hdf5\"\n",
    "Y_all_original = read_hdf5_array(fp_original).flatten()\n",
    "\n",
    "fig=plot_histogram_Y1_Y2(Y_all_original, val.Y_all)\n",
    "fig.show()"
   ]
  },
  {
   "cell_type": "markdown",
   "metadata": {},
   "source": [
    "# Run MC for screening"
   ]
  },
  {
   "cell_type": "code",
   "execution_count": null,
   "metadata": {},
   "outputs": [],
   "source": [
    "# import dask\n",
    "# from dask.distributed import Client, LocalCluster\n",
    "# from dask_jobqueue import SLURMCluster\n",
    "# from pathlib import Path"
   ]
  },
  {
   "cell_type": "code",
   "execution_count": null,
   "metadata": {},
   "outputs": [],
   "source": [
    "# which_pc = \"merlin_gsa_protocol_narrow_bio\"\n",
    "# if 'merlin' in which_pc:\n",
    "#     path_dask_logs = Path('/data/user/kim_a/dask_logs')\n",
    "#     path_dask_logs.mkdir(parents=True, exist_ok=True)\n",
    "#     cluster = SLURMCluster(cores     = 8, \n",
    "#                            memory    ='30GB', \n",
    "#                            walltime  = '10:00:00',\n",
    "#                            interface ='ib0',\n",
    "#                            local_directory = path_dask_logs.as_posix(),\n",
    "#                            log_directory   = path_dask_logs.as_posix(),\n",
    "#                            queue=\"daily\",\n",
    "#                            ) \n",
    "# elif 'local' in which_pc:\n",
    "#     cluster = LocalCluster(memory_limit='7GB') "
   ]
  },
  {
   "cell_type": "code",
   "execution_count": null,
   "metadata": {},
   "outputs": [],
   "source": [
    "# client = Client(cluster)"
   ]
  },
  {
   "cell_type": "code",
   "execution_count": null,
   "metadata": {},
   "outputs": [],
   "source": [
    "# n_workers = 80\n",
    "# cluster.scale(n_workers)"
   ]
  },
  {
   "cell_type": "code",
   "execution_count": null,
   "metadata": {},
   "outputs": [],
   "source": [
    "# client"
   ]
  },
  {
   "cell_type": "code",
   "execution_count": null,
   "metadata": {},
   "outputs": [],
   "source": [
    "# cluster.close()"
   ]
  },
  {
   "cell_type": "code",
   "execution_count": null,
   "metadata": {},
   "outputs": [],
   "source": [
    "n_workers = 80\n",
    "\n",
    "path_base = Path('/data/user/kim_a')\n",
    "num_params = 20000\n",
    "iter_corr = 4*num_params\n",
    "gsa_corr = setup_corr(num_params, iter_corr, setup_lca_model_protocol_narrow_bio, path_base)\n",
    "n_workers_corr = n_workers\n",
    "\n",
    "options = {\n",
    "    'corr': {\n",
    "        \"iterations\": iter_corr,\n",
    "        \"n_workers\":  n_workers_corr,\n",
    "    },\n",
    "}"
   ]
  },
  {
   "cell_type": "code",
   "execution_count": null,
   "metadata": {
    "scrolled": true
   },
   "outputs": [],
   "source": [
    "write_X_chunks(gsa_corr, n_workers_corr)"
   ]
  },
  {
   "cell_type": "code",
   "execution_count": null,
   "metadata": {},
   "outputs": [],
   "source": [
    "# Compute model outputs\n",
    "task_per_worker = dask.delayed(compute_scores_per_worker)\n",
    "model_evals = []\n",
    "for option,dict_ in options.items():\n",
    "    iterations = dict_[\"iterations\"]\n",
    "    n_workers = dict_[\"n_workers\"]\n",
    "    for i in range(n_workers):\n",
    "        print(option, num_params, iterations, i, n_workers)\n",
    "        model_eval = task_per_worker(\n",
    "            option, \n",
    "            num_params, \n",
    "            iterations, \n",
    "            i, \n",
    "            n_workers, \n",
    "            setup_lca_model_protocol_narrow_bio, \n",
    "            path_base\n",
    "        )\n",
    "        model_evals.append(model_eval)"
   ]
  },
  {
   "cell_type": "code",
   "execution_count": null,
   "metadata": {},
   "outputs": [],
   "source": [
    "# %%time\n",
    "dask.compute(model_evals)"
   ]
  },
  {
   "cell_type": "code",
   "execution_count": null,
   "metadata": {},
   "outputs": [],
   "source": [
    "Y = generate_model_output_from_chunks(gsa_corr, n_workers)"
   ]
  },
  {
   "cell_type": "code",
   "execution_count": null,
   "metadata": {},
   "outputs": [],
   "source": [
    "S = gsa_corr.perform_gsa()\n",
    "spearman = S['spearman']"
   ]
  },
  {
   "cell_type": "code",
   "execution_count": null,
   "metadata": {},
   "outputs": [],
   "source": []
  },
  {
   "cell_type": "code",
   "execution_count": null,
   "metadata": {},
   "outputs": [],
   "source": []
  },
  {
   "cell_type": "code",
   "execution_count": null,
   "metadata": {},
   "outputs": [],
   "source": []
  },
  {
   "cell_type": "code",
   "execution_count": null,
   "metadata": {},
   "outputs": [],
   "source": []
  },
  {
   "cell_type": "code",
   "execution_count": null,
   "metadata": {},
   "outputs": [],
   "source": []
  },
  {
   "cell_type": "code",
   "execution_count": null,
   "metadata": {},
   "outputs": [],
   "source": []
  },
  {
   "cell_type": "code",
   "execution_count": null,
   "metadata": {},
   "outputs": [],
   "source": []
  },
  {
   "cell_type": "code",
   "execution_count": null,
   "metadata": {},
   "outputs": [],
   "source": []
  },
  {
   "cell_type": "code",
   "execution_count": null,
   "metadata": {},
   "outputs": [],
   "source": []
  },
  {
   "cell_type": "code",
   "execution_count": null,
   "metadata": {},
   "outputs": [],
   "source": []
  },
  {
   "cell_type": "code",
   "execution_count": null,
   "metadata": {},
   "outputs": [],
   "source": []
  }
 ],
 "metadata": {
  "kernelspec": {
   "display_name": "Python [conda env:protocol-dev-py38]",
   "language": "python",
   "name": "conda-env-protocol-dev-py38-py"
  },
  "language_info": {
   "codemirror_mode": {
    "name": "ipython",
    "version": 3
   },
   "file_extension": ".py",
   "mimetype": "text/x-python",
   "name": "python",
   "nbconvert_exporter": "python",
   "pygments_lexer": "ipython3",
   "version": "3.8.0"
  }
 },
 "nbformat": 4,
 "nbformat_minor": 2
}
