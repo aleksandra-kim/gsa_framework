{
 "cells": [
  {
   "cell_type": "markdown",
   "metadata": {},
   "source": [
    "# Setups"
   ]
  },
  {
   "cell_type": "code",
   "execution_count": null,
   "metadata": {},
   "outputs": [],
   "source": [
    "import bw2data as bd\n",
    "import bw2calc as bc\n",
    "import numpy as np\n",
    "from copy import deepcopy\n",
    "from pathlib import Path\n",
    "import plotly.graph_objects as go\n",
    "from plotly.subplots import make_subplots\n",
    "import stats_arrays as sa\n",
    "from scipy.stats import spearmanr\n",
    "\n",
    "from gsa_framework.models.life_cycle_assessment import LCAModelBase\n",
    "from gsa_framework.sensitivity_analysis.correlations import Correlations\n",
    "from gsa_framework.sensitivity_analysis.saltelli_sobol import SaltelliSobol\n",
    "from gsa_framework.utils import read_pickle, write_pickle, write_hdf5_array, read_hdf5_array\n",
    "from setups_paper_gwp import setup_corr, setup_lca_model_protocol\n",
    "# from gsa_framework.utils import read_hdf5_array, write_hdf5_array\n",
    "# from gsa_framework.visualization.plotting import plot_correlation_Y1_Y2, plot_histogram_Y1_Y2\n",
    "\n",
    "from decimal import Decimal"
   ]
  },
  {
   "cell_type": "code",
   "execution_count": null,
   "metadata": {},
   "outputs": [],
   "source": [
    "path_base = Path('/data/user/kim_a')\n",
    "\n",
    "# LCA model\n",
    "bd.projects.set_current(\"GSA for protocol\")\n",
    "co = bd.Database(\"CH consumption 1.0\")\n",
    "demand_act = [act for act in co if \"Food\" in act[\"name\"]]\n",
    "assert len(demand_act) == 1\n",
    "demand_act = demand_act[0]\n",
    "demand = {demand_act: 1}\n",
    "method = (\"IPCC 2013\", \"climate change\", \"GWP 100a\", \"uncertain\")\n",
    "\n",
    "num_params = 20000\n",
    "iter_corr = 4*num_params\n",
    "gsa_corr = setup_corr(num_params, iter_corr, setup_lca_model_protocol, path_base)\n",
    "S = gsa_corr.perform_gsa()\n",
    "spearman = S['spearman']\n",
    "spearman_sorted = np.argsort(np.abs(spearman))[::-1]\n",
    "\n",
    "model, write_dir, gsa_seed = setup_lca_model_protocol(\n",
    "    path_base,\n",
    "    num_params=None,\n",
    "    write_dir=None,\n",
    ")\n",
    "\n",
    "write_dir_arr = write_dir / \"arrays\"\n",
    "write_dir_sct = write_dir / \"supply_chain\"\n",
    "\n",
    "path_lsa = model.write_dir / \"LSA_scores\"\n",
    "path_lsa_include_inds_bio = path_lsa / \"include_inds_bio.pickle\"\n",
    "include_inds_bio = read_pickle(path_lsa_include_inds_bio)\n",
    "path_lsa_include_inds_cf = path_lsa / \"include_inds_cf.pickle\"\n",
    "include_inds_cf = read_pickle(path_lsa_include_inds_cf)\n",
    "\n",
    "include_inds_tech_forX = np.arange(model.uncertain_exchange_lengths['tech'])\n",
    "include_inds_bio_forX  = model.uncertain_exchange_lengths['tech'] + include_inds_bio\n",
    "include_inds_cf_forX   = model.uncertain_exchange_lengths['tech'] + \\\n",
    "                         model.uncertain_exchange_lengths['bio']  + include_inds_cf\n",
    "parameter_choice_rm_noninf = np.hstack(\n",
    "    [include_inds_tech_forX, include_inds_bio_forX, include_inds_cf_forX]\n",
    ")\n",
    "\n",
    "scores_dict = model.get_lsa_scores_pickle(model.write_dir / \"LSA_scores\", model.uncertain_exchanges_types)\n",
    "num_params_lsa = 20000 #10000\n",
    "where_high_var = model.get_where_high_var(scores_dict, num_params_lsa)\n",
    "parameter_choice_rm_lowinf = parameter_choice_rm_noninf[where_high_var]\n",
    "\n",
    "num_params_ranking = 200\n",
    "gsa_seed_ranking = 555666\n",
    "iterations_ranking = num_params_ranking * 1600\n",
    "parameter_choice_inf_lsa = parameter_choice_rm_lowinf[spearman_sorted[:num_params_ranking]]\n",
    "parameter_choice_inf_lsa = np.sort(parameter_choice_inf_lsa)"
   ]
  },
  {
   "cell_type": "markdown",
   "metadata": {},
   "source": [
    "# Graph traversal screening"
   ]
  },
  {
   "cell_type": "code",
   "execution_count": null,
   "metadata": {},
   "outputs": [],
   "source": [
    "import numpy as np\n",
    "import bw2data as bd\n",
    "import bw2calc as bc\n",
    "\n",
    "from dev.utils_graph_traversal import \\\n",
    "    filter_uncertain_technosphere_exchanges, \\\n",
    "    filter_uncertain_biosphere_exchanges, \\\n",
    "    filter_uncertain_characterization_exchanges, \\\n",
    "    collect_uncertain_exchanges\n",
    "\n",
    "write_dir_sct = write_dir / 'supply_chain'\n",
    "\n",
    "bd.projects.set_current(\"GSA for protocol\")\n",
    "co = bd.Database(\"CH consumption 1.0\")\n",
    "demand_act = [act for act in co if \"Food\" in act[\"name\"]]\n",
    "assert len(demand_act) == 1\n",
    "demand_act = demand_act[0]\n",
    "demand = {demand_act: 1}\n",
    "method = (\"IPCC 2013\", \"climate change\", \"GWP 100a\", \"uncertain\")\n",
    "lca = bc.LCA(demand, method)\n",
    "lca.lci()\n",
    "lca.lcia()\n",
    "\n",
    "def graph_traversal_screening(lca, model, write_dir, cutoff, num_params_ranking):\n",
    "    \n",
    "    cutoff_str = '%.2E' % Decimal(cutoff)\n",
    "    filename = \"cutoff{}.params{}.pickle\".format(cutoff_str, num_params_ranking)\n",
    "    filepath = write_dir / filename\n",
    "    \n",
    "    if filepath.exists():\n",
    "        data = read_pickle(filepath)\n",
    "    else:\n",
    "        exchanges_dict_filename = \"exchanges_dict.cutoff{}.pickle\".format(cutoff_str)\n",
    "        exchanges_dict_filepath = write_dir / exchanges_dict_filename\n",
    "        if exchanges_dict_filepath.exists():\n",
    "            exchanges_dict = read_pickle(exchanges_dict_filepath)\n",
    "            tech_inds_uncertain = exchanges_dict['tech']\n",
    "            bio_inds_uncertain = exchanges_dict['bio']\n",
    "            cf_inds_uncertain = exchanges_dict['cf']\n",
    "        else:\n",
    "            # tech_inds = filter_technosphere_exchanges(lca, cutoff)\n",
    "            tech_inds_uncertain = filter_uncertain_technosphere_exchanges(lca, cutoff, 1e8)\n",
    "            # bio_inds  = filter_biosphere_exchanges(lca, cutoff)\n",
    "            bio_inds_uncertain = filter_uncertain_biosphere_exchanges(lca, cutoff)\n",
    "            # ch_inds = filter_characterization_exchanges(lca, cutoff)\n",
    "            cf_inds_uncertain = filter_uncertain_characterization_exchanges(lca, cutoff)\n",
    "            exchanges_dict = {\n",
    "                'tech': tech_inds_uncertain,\n",
    "                'bio': bio_inds_uncertain,\n",
    "                'cf': cf_inds_uncertain,\n",
    "            }\n",
    "            write_pickle(exchanges_dict, exchanges_dict_filepath)\n",
    "\n",
    "        num_params_all = len(tech_inds_uncertain) + len(bio_inds_uncertain) + len(cf_inds_uncertain)\n",
    "        subset_exchanges_dict_all = collect_uncertain_exchanges(exchanges_dict, num_params_all)\n",
    "        \n",
    "        subset_exchanges_dict = collect_uncertain_exchanges(exchanges_dict, num_params_ranking)\n",
    "\n",
    "        row_ind = 0\n",
    "        col_ind = 1\n",
    "        sdicts = {\n",
    "            'ranking': subset_exchanges_dict,\n",
    "            'all': subset_exchanges_dict_all,\n",
    "        }\n",
    "        data = {}\n",
    "        for sname, sdict in sdicts.items():\n",
    "            parameter_choice_dict = {}\n",
    "            for uncertain_exchange_type, exc_list in sdict.items():\n",
    "                params = model.uncertain_params[uncertain_exchange_type]\n",
    "                where_list = []\n",
    "                if uncertain_exchange_type != 'cf':\n",
    "                    for exc in exc_list:\n",
    "                        where = np.where(np.logical_and(\n",
    "                            params['row'] == exc[row_ind],\n",
    "                            params['col'] == exc[col_ind],\n",
    "                        ))[0]\n",
    "                        assert len(where)==1\n",
    "                        where_list.append(where[0])\n",
    "                else:\n",
    "                    for exc in exc_list:\n",
    "                        where = np.where(params['row'] == exc[row_ind])[0]\n",
    "                        assert len(where) == 1\n",
    "                        where_list.append(where[0])\n",
    "                where_list = sorted(where_list)\n",
    "                parameter_choice_dict[uncertain_exchange_type] = np.array(where_list)\n",
    "\n",
    "            parameter_choice_inf_tech = np.array(parameter_choice_dict['tech'])\n",
    "            parameter_choice_inf_bio  = np.array(parameter_choice_dict['bio']) + model.uncertain_exchange_lengths['tech']\n",
    "            parameter_choice_inf_cf   = np.array(parameter_choice_dict['cf']) + model.uncertain_exchange_lengths['tech'] + model.uncertain_exchange_lengths['bio']\n",
    "\n",
    "            parameter_choice_inf_graph = np.hstack(\n",
    "                [parameter_choice_inf_tech, parameter_choice_inf_bio, parameter_choice_inf_cf]\n",
    "            )\n",
    "            data[sname] = {\n",
    "                \"parameter_choice_dict\": parameter_choice_dict, \n",
    "                \"parameter_choice_inf_graph\": parameter_choice_inf_graph\n",
    "            }\n",
    "            write_pickle(data, filepath)\n",
    "    return data"
   ]
  },
  {
   "cell_type": "markdown",
   "metadata": {},
   "source": [
    "# GSA results for paper2, prioritized list"
   ]
  },
  {
   "cell_type": "code",
   "execution_count": null,
   "metadata": {},
   "outputs": [],
   "source": [
    "cutoff = 1e-4\n",
    "num_params_ranking = 200\n",
    "data = graph_traversal_screening(lca, model, write_dir_sct, cutoff, num_params_ranking)\n",
    "parameter_choice_inf_sct = data['ranking']['parameter_choice_inf_graph']\n",
    "\n",
    "print(parameter_choice_inf_sct.shape, parameter_choice_inf_lsa.shape)\n",
    "np.intersect1d(parameter_choice_inf_sct, parameter_choice_inf_lsa).shape"
   ]
  },
  {
   "cell_type": "code",
   "execution_count": null,
   "metadata": {},
   "outputs": [],
   "source": [
    "from gsa_framework.sensitivity_methods.saltelli_sobol import sobol_indices\n",
    "\n",
    "filepath_Y_saltelli_sct = write_dir_arr / \"Y.saltelliSampling.319968.None.sct.hdf5\"\n",
    "filepath_Y_saltelli_lsa = write_dir_arr / \"Y.saltelliSampling.319968.None.lsa.hdf5\"\n",
    "\n",
    "S_sct = sobol_indices(filepath_Y_saltelli_sct, num_params_ranking)\n",
    "S_lsa = sobol_indices(filepath_Y_saltelli_lsa, num_params_ranking)"
   ]
  },
  {
   "cell_type": "markdown",
   "metadata": {},
   "source": [
    "# Prioritized list"
   ]
  },
  {
   "cell_type": "code",
   "execution_count": null,
   "metadata": {},
   "outputs": [],
   "source": [
    "option='localSA'\n",
    "if option=='localSA':\n",
    "    S_salt = S_lsa\n",
    "    parameter_choice_inf = parameter_choice_inf_lsa\n",
    "    method_name = \"Local SA rank\"\n",
    "    gsa_name = \"Local SA Sobol total\"\n",
    "elif option == \"sct\":\n",
    "    S_salt = S_sct\n",
    "    parameter_choice_inf = parameter_choice_inf_sct\n",
    "    method_name = \"Contributions rank\"\n",
    "    gsa_name = \"Contributions Sobol total\"\n",
    "\n",
    "total = S_salt['Total order']\n",
    "total_argsort = np.argsort(total)[::-1]\n",
    "total_sorted = total[total_argsort]\n",
    "first_sorted = S_salt['First order'][total_argsort]\n"
   ]
  },
  {
   "cell_type": "code",
   "execution_count": null,
   "metadata": {
    "scrolled": false
   },
   "outputs": [],
   "source": [
    "num_ranked =200\n",
    "\n",
    "parameter_choice_ranked = parameter_choice_inf[total_argsort][:num_ranked]\n",
    "\n",
    "len_tech = model.uncertain_exchange_lengths['tech']\n",
    "where_tech = np.where(parameter_choice_ranked<len_tech)[0]\n",
    "ind_tech = parameter_choice_ranked[where_tech]\n",
    "inf_tech_params = {\n",
    "    where_tech[i]: {\n",
    "        \"type\": \"tech\",\n",
    "        \"param\": model.uncertain_params['tech'][ind_tech[i]]\n",
    "    }\n",
    "    for i in range(len(where_tech))\n",
    "}\n",
    "\n",
    "len_bio = model.uncertain_exchange_lengths['bio']\n",
    "where_bio = np.where(np.logical_and(\n",
    "    parameter_choice_ranked>=len_tech,\n",
    "    parameter_choice_ranked<len_tech+len_bio,\n",
    "))[0]\n",
    "ind_bio = parameter_choice_ranked[where_bio]-len_tech\n",
    "inf_bio_params = {\n",
    "    where_bio[i]: {\n",
    "        \"type\": \"bio\",\n",
    "        \"param\": model.uncertain_params['bio'][ind_bio[i]]\n",
    "    }\n",
    "    for i in range(len(where_bio))\n",
    "}\n",
    "\n",
    "len_cf = model.uncertain_exchange_lengths['cf']\n",
    "where_cf = np.where(np.logical_and(\n",
    "    parameter_choice_ranked>=len_tech+len_bio,\n",
    "    parameter_choice_ranked<len_tech+len_bio+len_cf,\n",
    "))[0]\n",
    "ind_cf = parameter_choice_ranked[where_cf]-len_tech-len_bio\n",
    "inf_cf_params = {\n",
    "    where_cf[i]: {\n",
    "        \"type\": \"cf\",\n",
    "        \"param\": model.uncertain_params['cf'][ind_cf[i]]\n",
    "    }\n",
    "    for i in range(len(where_cf))\n",
    "}\n",
    "\n",
    "params = {**inf_tech_params, **inf_bio_params, **inf_cf_params}\n",
    "params = {k : params[k] for k in sorted(params)}\n",
    "\n",
    "TECH_IND = 0\n",
    "BIO_IND = 2\n",
    "distributions = {\n",
    "    sa.NormalUncertainty.id: 'normal',\n",
    "    sa.LognormalUncertainty.id: 'lognml',\n",
    "    sa.UniformUncertainty.id: 'unifrm',\n",
    "}\n",
    "\n",
    "data = []\n",
    "for rank, dict_ in params.items():\n",
    "    exchange_type = dict_['type']\n",
    "    param = dict_['param']\n",
    "    row = param['row']\n",
    "    col = param['col']\n",
    "    \n",
    "#     print(\n",
    "#         \"{:2d}. total={:5.3f}, {}, amount={:8.5f}, scale={:5.3f}\".format(\n",
    "#             rank, \n",
    "#             total_sorted[rank],\n",
    "#             distributions[param['uncertainty_type']],\n",
    "#             param['amount'],\n",
    "#             param['scale'],\n",
    "#         )\n",
    "#     )      \n",
    "    if exchange_type=='tech':\n",
    "        act_in = bd.get_activity(model.lca.reverse_dict()[TECH_IND][row])\n",
    "        act_out = bd.get_activity(model.lca.reverse_dict()[TECH_IND][col])\n",
    "#         print(\"act out:    {}, {}\".format(act_out['name'], act_out['location']))\n",
    "#         print(\"act  in:    {}, {}, {} \\n\".format(act_in['name'], act_in['unit'], act_in['location']))\n",
    "        unit = act_in['unit']\n",
    "        act_in_str = \"{:4s}   {}, {}\".format(\"from\", act_in['name'], act_in['location'])\n",
    "        act_out_str = \"{:4s}   {}, {}\".format(\"to\", act_out['name'], act_out['location'])\n",
    "        exchange = \"{} {}\".format(act_in_str, act_out_str)\n",
    "    elif exchange_type=='bio':\n",
    "        act_in = bd.get_activity(model.lca.reverse_dict()[BIO_IND][row])\n",
    "        act_out = bd.get_activity(model.lca.reverse_dict()[TECH_IND][col])\n",
    "#         print(\"act out:    {}, {}\".format(act_out['name'], act_out['location']))\n",
    "#         print(\"act  in:    {}, {} \\n\".format(act_in['name'], act_in['unit']))\n",
    "        unit = act_in['unit']\n",
    "        act_in_str = \"{:4s}   {}\".format(\"from\", act_in['name'], act_in)\n",
    "        act_out_str = \"{:4s}   {}, {}\".format(\"to\", act_out['name'], act_out['location'])\n",
    "        exchange = \"{} {}\".format(act_in_str, act_out_str)\n",
    "    elif exchange_type=='cf':\n",
    "        act_in = bd.get_activity(model.lca.reverse_dict()[BIO_IND][row])\n",
    "#         print(\"GWP of:    {} \\n\".format(act_in['name'])) \n",
    "        unit = \"kg CO2e\"\n",
    "        act_in_str = \"{:4s}   {}\".format(\"\", act_in['name'])\n",
    "        exchange = act_in_str\n",
    "        \n",
    "    if param['uncertainty_type']==sa.LognormalUncertainty.id:\n",
    "        distr = \"lognormal\"\n",
    "    elif param['uncertainty_type']==sa.NormalUncertainty.id:\n",
    "        distr = \"normal\"\n",
    "    elif param['uncertainty_type']==sa.UniformUncertainty.id:\n",
    "        distr = \"uniform\"\n",
    "    elif param['uncertainty_type']==sa.TriangularUncertainty.id:\n",
    "        distr = \"triangular\"\n",
    "    else:\n",
    "        distr=param['uncertainty_type']\n",
    "        \n",
    "    dict_ = {\n",
    "        method_name: int(rank + 1),\n",
    "        'Type': exchange_type,\n",
    "        \"Exchange\": exchange,\n",
    "        \"Amount\": \"{:6.5e} {}\".format(param['amount'], unit),\n",
    "        \"Distribution\": distr,\n",
    "        \"Standard deviation\": \"{:e}\".format(param['scale']),\n",
    "        \"Shape\": \"{:6.5e}\".format(param['shape']),\n",
    "        \"Minimum\": \"{:6.5e}\".format(param['minimum']),\n",
    "        \"Maximum\": \"{:6.5e}\".format(param['maximum']),\n",
    "        gsa_name: \"{:6.5e}\".format(total_sorted[rank]),\n",
    "    }\n",
    "    data.append(dict_)\n",
    "#     if exchange_type=='tech' or exchange_type=='bio':\n",
    "#         dict_to = {\n",
    "#             \"Exchange\": act_out_str,\n",
    "#         }\n",
    "#         data.append(dict_to)\n",
    "    "
   ]
  },
  {
   "cell_type": "code",
   "execution_count": null,
   "metadata": {},
   "outputs": [],
   "source": [
    "import pandas as pd\n",
    "df = pd.DataFrame(data).fillna(\"\")\n",
    "df"
   ]
  },
  {
   "cell_type": "code",
   "execution_count": null,
   "metadata": {},
   "outputs": [],
   "source": [
    "df.to_excel('b.xlsx')"
   ]
  },
  {
   "cell_type": "code",
   "execution_count": null,
   "metadata": {},
   "outputs": [],
   "source": [
    "ei_name = 'ecoinvent 3.7.1 cutoff'\n",
    "bi = bd.Database(\"biosphere3\")\n",
    "ei = bd.Database(ei_name)\n",
    "co = bd.Database('CH consumption 1.0')"
   ]
  },
  {
   "cell_type": "code",
   "execution_count": null,
   "metadata": {
    "scrolled": true
   },
   "outputs": [],
   "source": [
    "list(demand_act.exchanges())"
   ]
  },
  {
   "cell_type": "markdown",
   "metadata": {},
   "source": [
    "# 0. Methane non-fossil"
   ]
  },
  {
   "cell_type": "code",
   "execution_count": null,
   "metadata": {},
   "outputs": [],
   "source": [
    "[act for act in bi if 'Methane, non-fossil' in act['name']]"
   ]
  },
  {
   "cell_type": "code",
   "execution_count": null,
   "metadata": {
    "scrolled": false
   },
   "outputs": [],
   "source": [
    "cols = lca.bio_params[lca.bio_params['row']==878]['col']\n",
    "a = []\n",
    "for col in cols:\n",
    "    act = bd.get_activity(lca.reverse_dict()[0][col])\n",
    "    a.append(act['name'])\n",
    "# list(set(a))"
   ]
  },
  {
   "cell_type": "markdown",
   "metadata": {},
   "source": [
    "# 1. Dinitrogen monoxide"
   ]
  },
  {
   "cell_type": "code",
   "execution_count": null,
   "metadata": {},
   "outputs": [],
   "source": [
    "cols = lca.bio_params[lca.bio_params['row']==772]['col']\n",
    "a = []\n",
    "for col in cols:\n",
    "    act = bd.get_activity(lca.reverse_dict()[0][col])\n",
    "    a.append(act['name'])\n",
    "list(set(a))"
   ]
  },
  {
   "cell_type": "markdown",
   "metadata": {},
   "source": [
    "# 2. Onion seedling"
   ]
  },
  {
   "cell_type": "code",
   "execution_count": null,
   "metadata": {},
   "outputs": [],
   "source": [
    "onion_seedling = [act for act in ei if \"onion seedling production, for planting\" in act['name'] and 'RoW'==act['location']]\n",
    "assert len(onion_seedling)==1\n",
    "onion_seedling = onion_seedling[0]\n",
    "onion_seedling"
   ]
  },
  {
   "cell_type": "code",
   "execution_count": null,
   "metadata": {},
   "outputs": [],
   "source": [
    "lca.activity_dict[onion_seedling.key]"
   ]
  },
  {
   "cell_type": "code",
   "execution_count": null,
   "metadata": {},
   "outputs": [],
   "source": [
    "cols = lca.tech_params[lca.tech_params['row']==16002]['col']\n",
    "lca.tech_params[lca.tech_params['row']==16002]"
   ]
  },
  {
   "cell_type": "code",
   "execution_count": null,
   "metadata": {},
   "outputs": [],
   "source": [
    "for col in cols:\n",
    "    act = bd.get_activity(lca.reverse_dict()[0][col])\n",
    "    print(act)"
   ]
  },
  {
   "cell_type": "code",
   "execution_count": null,
   "metadata": {},
   "outputs": [],
   "source": [
    "list(bd.get_activity(lca.reverse_dict()[0][19345]).exchanges())"
   ]
  },
  {
   "cell_type": "code",
   "execution_count": null,
   "metadata": {},
   "outputs": [],
   "source": [
    "onions_co = [act for act in co if \"Onions\" in act['name']][0]\n",
    "lca_onions = bc.LCA({onions_co: 0.6488975239934204}, method)\n",
    "lca_onions.lci()\n",
    "lca_onions.lcia()\n",
    "lca_onions.score / lca.score * 100"
   ]
  },
  {
   "cell_type": "code",
   "execution_count": null,
   "metadata": {},
   "outputs": [],
   "source": [
    "other_fruitv = [act for act in co if \"Other fruiting ve\" in act['name']][0]\n",
    "bell_pepper = [act for act in ei if \"market for bell pepper\"  in act['name']][0]\n",
    "for exc in list(bell_pepper.exchanges()):\n",
    "    print(exc.input, exc.amount)\n",
    "bell_pepper_inup = [act for act in ei if \"bell pepper production\"  in act['name'] and 'IN-UP' in act['location']][0]\n",
    "bell_pepper_inmh = [act for act in ei if \"bell pepper production\"  in act['name'] and 'IN-MH' in act['location']][0]\n",
    "\n",
    "lca_other_fruitv = bc.LCA({other_fruitv: 1.8643742157872023}, method)\n",
    "lca_other_fruitv.lci()\n",
    "lca_other_fruitv.lcia()\n",
    "lca_other_fruitv.score / lca.score * 100\n",
    "\n",
    "lca_bell_pepper = bc.LCA({bell_pepper: 1.8643742157872023*0.098767731120006}, method)\n",
    "lca_bell_pepper.lci()\n",
    "lca_bell_pepper.lcia()\n",
    "lca_bell_pepper.score / lca.score * 100"
   ]
  },
  {
   "cell_type": "markdown",
   "metadata": {},
   "source": [
    "# 3. Maize silage"
   ]
  },
  {
   "cell_type": "code",
   "execution_count": null,
   "metadata": {},
   "outputs": [],
   "source": [
    "maize = [ act for act in ei if 'maize silage production' == act['name'] and 'RoW'==act['location']][0]\n",
    "lca.activity_dict[maize.key]"
   ]
  },
  {
   "cell_type": "code",
   "execution_count": null,
   "metadata": {},
   "outputs": [],
   "source": [
    "cols = lca.tech_params[lca.tech_params['row']==4425]['col']\n",
    "lca.tech_params[lca.tech_params['row']==4425]"
   ]
  },
  {
   "cell_type": "code",
   "execution_count": null,
   "metadata": {},
   "outputs": [],
   "source": [
    "for col in cols:\n",
    "    act = bd.get_activity(lca.reverse_dict()[0][col])\n",
    "    print(act)"
   ]
  },
  {
   "cell_type": "markdown",
   "metadata": {},
   "source": [
    "# 4. China"
   ]
  },
  {
   "cell_type": "code",
   "execution_count": null,
   "metadata": {},
   "outputs": [],
   "source": [
    "peach = [ act for act in ei if 'peach production' == act['name'] and 'CN'==act['location']][0]\n",
    "lca.activity_dict[peach.key]"
   ]
  },
  {
   "cell_type": "code",
   "execution_count": null,
   "metadata": {},
   "outputs": [],
   "source": [
    "rows = lca.tech_params[lca.tech_params['col']==7685]['row']\n",
    "lca.tech_params[lca.tech_params['col']==7685]"
   ]
  },
  {
   "cell_type": "code",
   "execution_count": null,
   "metadata": {},
   "outputs": [],
   "source": [
    "for row in rows:\n",
    "    act = bd.get_activity(lca.reverse_dict()[0][row])\n",
    "    print(act)"
   ]
  },
  {
   "cell_type": "markdown",
   "metadata": {},
   "source": [
    "# 7. Oranges"
   ]
  },
  {
   "cell_type": "code",
   "execution_count": null,
   "metadata": {},
   "outputs": [],
   "source": [
    "orange = [act for act in ei if \"orange production, fresh grade\" in act['name'] and 'RoW'==act['location']][0]"
   ]
  },
  {
   "cell_type": "code",
   "execution_count": null,
   "metadata": {},
   "outputs": [],
   "source": [
    "lca.activity_dict[orange.key]"
   ]
  },
  {
   "cell_type": "code",
   "execution_count": null,
   "metadata": {},
   "outputs": [],
   "source": [
    "cols = lca.tech_params[lca.tech_params['row']==1312]['col']\n",
    "lca.tech_params[lca.tech_params['row']==1312]"
   ]
  },
  {
   "cell_type": "code",
   "execution_count": null,
   "metadata": {},
   "outputs": [],
   "source": [
    "for col in cols:\n",
    "    act = bd.get_activity(lca.reverse_dict()[0][col])\n",
    "    print(act)"
   ]
  },
  {
   "cell_type": "code",
   "execution_count": null,
   "metadata": {},
   "outputs": [],
   "source": [
    "oranges_citrus = [act for act in co if 'Oranges and other citrus fruits' in act['name']][0]\n",
    "fruit_juices = [act for act in co if 'Fruit juices' in act['name']][0]"
   ]
  },
  {
   "cell_type": "code",
   "execution_count": null,
   "metadata": {},
   "outputs": [],
   "source": [
    "lca_oranges_citrus = bc.LCA({oranges_citrus: 2.1714586942450325}, method)\n",
    "lca_oranges_citrus.lci()\n",
    "lca_oranges_citrus.lcia()\n",
    "print(lca_oranges_citrus.score / lca.score * 100)\n",
    "\n",
    "lca_fruit_juices = bc.LCA({fruit_juices: 3.9009085829780012}, method)\n",
    "lca_fruit_juices.lci()\n",
    "lca_fruit_juices.lcia()\n",
    "print(lca_fruit_juices.score / lca.score * 100)"
   ]
  },
  {
   "cell_type": "code",
   "execution_count": null,
   "metadata": {},
   "outputs": [],
   "source": [
    "0.19721621980302698 + 0.3843171769770443"
   ]
  },
  {
   "cell_type": "code",
   "execution_count": null,
   "metadata": {},
   "outputs": [],
   "source": [
    "cheese = [act for act in ei if \"milk production, from cow\" in act['name'] and 'RoW' in act['location']][0]\n",
    "cheese"
   ]
  },
  {
   "cell_type": "code",
   "execution_count": null,
   "metadata": {},
   "outputs": [],
   "source": [
    "list(cheese.exchanges())"
   ]
  },
  {
   "cell_type": "code",
   "execution_count": null,
   "metadata": {},
   "outputs": [],
   "source": [
    "data = []"
   ]
  },
  {
   "cell_type": "code",
   "execution_count": null,
   "metadata": {
    "scrolled": true
   },
   "outputs": [],
   "source": [
    "def print_recursive_calculation(data, activity, lcia_method, lca_obj=None, total_score=None, amount=1, level=0, max_level=3, cutoff=1e-2):\n",
    "    if lca_obj is None:\n",
    "        lca_obj = bc.LCA({activity: amount}, lcia_method)\n",
    "        lca_obj.lci()\n",
    "        lca_obj.lcia()\n",
    "        total_score = lca_obj.score\n",
    "    elif total_score is None:\n",
    "        raise ValueError\n",
    "    else:\n",
    "        lca_obj.redo_lcia({activity: amount})\n",
    "        if abs(lca_obj.score) <= abs(total_score * cutoff):\n",
    "            return\n",
    "#     print(\"{}{:6.5f} ({:6.4f}): {}\".format(\"    \" * level, lca_obj.score / total_score, lca_obj.score, str(activity)))\n",
    "    dict_ = {\n",
    "        \"level {}\".format(level): lca_obj.score / total_score,\n",
    "        \"LCA score\": lca_obj.score,\n",
    "        \"activity name\": activity['name'],\n",
    "        \"activity unit\": activity['unit'],\n",
    "        \"activity location\": activity['location'],\n",
    "    }\n",
    "    data.append(dict_)\n",
    "    if level < max_level:\n",
    "        for exc in activity.technosphere():\n",
    "            print_recursive_calculation(\n",
    "                data = data,\n",
    "                activity=exc.input, \n",
    "                lcia_method=lcia_method, \n",
    "                lca_obj=lca_obj, \n",
    "                total_score=total_score, \n",
    "                amount=amount * exc['amount'], \n",
    "                level=level + 1, \n",
    "                max_level=max_level, \n",
    "                cutoff=cutoff\n",
    "            )\n",
    "            \n",
    "# First number is the percentage of the total score, second number is the actual LCA score\n",
    "print_recursive_calculation(data, demand_act, model.method, max_level=12, cutoff=1e-4)"
   ]
  },
  {
   "cell_type": "code",
   "execution_count": null,
   "metadata": {},
   "outputs": [],
   "source": [
    "# import pandas as pd\n",
    "# df = pd.DataFrame(data).fillna('')\n",
    "# columns = list(df.columns)\n",
    "# df = df[columns[0:1] + columns[5:] + columns[1:5]]\n",
    "# df.to_excel(\"a.xlsx\")"
   ]
  },
  {
   "cell_type": "code",
   "execution_count": null,
   "metadata": {},
   "outputs": [],
   "source": []
  },
  {
   "cell_type": "code",
   "execution_count": null,
   "metadata": {},
   "outputs": [],
   "source": []
  },
  {
   "cell_type": "code",
   "execution_count": null,
   "metadata": {},
   "outputs": [],
   "source": []
  },
  {
   "cell_type": "code",
   "execution_count": null,
   "metadata": {},
   "outputs": [],
   "source": []
  },
  {
   "cell_type": "code",
   "execution_count": null,
   "metadata": {},
   "outputs": [],
   "source": []
  },
  {
   "cell_type": "code",
   "execution_count": null,
   "metadata": {},
   "outputs": [],
   "source": []
  },
  {
   "cell_type": "code",
   "execution_count": null,
   "metadata": {},
   "outputs": [],
   "source": []
  },
  {
   "cell_type": "code",
   "execution_count": null,
   "metadata": {},
   "outputs": [],
   "source": []
  },
  {
   "cell_type": "code",
   "execution_count": null,
   "metadata": {},
   "outputs": [],
   "source": []
  },
  {
   "cell_type": "code",
   "execution_count": null,
   "metadata": {},
   "outputs": [],
   "source": []
  },
  {
   "cell_type": "code",
   "execution_count": null,
   "metadata": {},
   "outputs": [],
   "source": []
  },
  {
   "cell_type": "code",
   "execution_count": null,
   "metadata": {},
   "outputs": [],
   "source": []
  },
  {
   "cell_type": "code",
   "execution_count": null,
   "metadata": {},
   "outputs": [],
   "source": []
  },
  {
   "cell_type": "code",
   "execution_count": null,
   "metadata": {},
   "outputs": [],
   "source": []
  }
 ],
 "metadata": {
  "kernelspec": {
   "display_name": "Python [conda env:protocol-dev-py38]",
   "language": "python",
   "name": "conda-env-protocol-dev-py38-py"
  },
  "language_info": {
   "codemirror_mode": {
    "name": "ipython",
    "version": 3
   },
   "file_extension": ".py",
   "mimetype": "text/x-python",
   "name": "python",
   "nbconvert_exporter": "python",
   "pygments_lexer": "ipython3",
   "version": "3.8.0"
  }
 },
 "nbformat": 4,
 "nbformat_minor": 2
}
