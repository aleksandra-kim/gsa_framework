{
 "cells": [
  {
   "cell_type": "code",
   "execution_count": null,
   "metadata": {},
   "outputs": [],
   "source": [
    "import pandas as pd\n",
    "from setups_paper_gwp import *\n",
    "\n",
    "path_base = Path('/data/user/kim_a/')\n",
    "num_params = 35000\n",
    "num_influential = 60\n",
    "if num_params == 10000:\n",
    "    iter_corr = 4*num_params\n",
    "elif num_params == 35000:\n",
    "    iter_corr = 2*num_params\n",
    "gsa_corr = setup_corr(num_params, iter_corr, setup_lca_model_oases, path_base)\n",
    "S_dict = gsa_corr.perform_gsa()\n",
    "spearman = S_dict['spearman']\n",
    "lca = gsa_corr.model.lca\n",
    "where_inf = np.argsort(spearman)[::-1][:num_influential]\n",
    "imp_tech = gsa_corr.model.uncertain_tech_params[where_inf]"
   ]
  },
  {
   "cell_type": "code",
   "execution_count": null,
   "metadata": {},
   "outputs": [],
   "source": [
    "%%time\n",
    "row_acts, col_acts = [],[]\n",
    "for p in imp_tech:\n",
    "    row = p['row']\n",
    "    col = p['col']\n",
    "    row_acts.append(bw.get_activity(lca.reverse_dict()[0][row]))\n",
    "    col_acts.append(bw.get_activity(lca.reverse_dict()[0][col]))"
   ]
  },
  {
   "cell_type": "code",
   "execution_count": null,
   "metadata": {},
   "outputs": [],
   "source": [
    "spearman_inf = spearman[where_inf]\n",
    "data = []\n",
    "for i in range(num_influential):\n",
    "    row_act = row_acts[i]\n",
    "    col_act = row_acts[i]\n",
    "    dict_ = {\n",
    "        \"input activity\": row_act.get(\"name\"), \n",
    "        \"input location\": row_act.get(\"location\"),\n",
    "        \"input reference product\": row_act.get(\"reference product\"),\n",
    "        \"input unit\": row_act.get('unit'),\n",
    "\n",
    "        \"output activity\": col_act.get(\"name\"), \n",
    "        \"output location\": col_act.get(\"location\"),\n",
    "        \"output reference product\": col_act.get(\"reference product\"),\n",
    "        \"output unit\": col_act.get('unit'),\n",
    "        \n",
    "        \"exchange amount\": imp_tech[\"amount\"][i],\n",
    "        \"exchange scale\": imp_tech[\"scale\"][i],\n",
    "        \"exchange loc\": imp_tech[\"loc\"][i],\n",
    "        \"exchange Spearman rank coef.\": spearman_inf[i]\n",
    "    }\n",
    "    data.append(dict_)\n",
    "df = pd.DataFrame.from_dict(data)\n",
    "df.to_excel(\"influential_exchanges.xlsx\")"
   ]
  }
 ],
 "metadata": {
  "kernelspec": {
   "display_name": "Python [conda env:gsa-dev]",
   "language": "python",
   "name": "conda-env-gsa-dev-py"
  },
  "language_info": {
   "codemirror_mode": {
    "name": "ipython",
    "version": 3
   },
   "file_extension": ".py",
   "mimetype": "text/x-python",
   "name": "python",
   "nbconvert_exporter": "python",
   "pygments_lexer": "ipython3",
   "version": "3.8.5"
  }
 },
 "nbformat": 4,
 "nbformat_minor": 2
}
