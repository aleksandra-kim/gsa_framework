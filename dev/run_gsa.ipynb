{
 "cells": [
  {
   "cell_type": "code",
   "execution_count": 1,
   "metadata": {},
   "outputs": [
    {
     "name": "stdout",
     "output_type": "stream",
     "text": [
      "Using environment variable BRIGHTWAY2_DIR for data directory:\n",
      "/data/user/kim_a/Brightway3\n"
     ]
    }
   ],
   "source": [
    "import brightway2 as bw\n",
    "from pathlib import Path\n",
    "from gsa_framework import LCAModel\n",
    "from gsa_framework.validation import Validation\n",
    "from gsa_framework.utils_setac_lca import *\n",
    "from gsa_framework.utils import read_hdf5_array"
   ]
  },
  {
   "cell_type": "code",
   "execution_count": 2,
   "metadata": {},
   "outputs": [],
   "source": [
    "path_base = Path('/data/user/kim_a/setac_gsa/')\n",
    "path_merlin = path_base / \"merlin\"\n",
    "filepath_scores_lsa_dict = path_merlin / \"scores_lsa_dict.pickle\"\n",
    "filepath_params_yes_0 = path_merlin / \"params_yes_0.pickle\"\n",
    "filepath_params_yes_6 = path_merlin / \"params_yes_6.pickle\"\n",
    "\n",
    "with open(filepath_scores_lsa_dict, 'rb') as f:\n",
    "    scores_lsa_dict = pickle.load(f)\n",
    "    \n",
    "with open(filepath_params_yes_0, 'rb') as f:\n",
    "    params_yes_0 = pickle.load(f)\n",
    "    \n",
    "with open(filepath_params_yes_6, 'rb') as f:\n",
    "    params_yes_6 = pickle.load(f)"
   ]
  },
  {
   "cell_type": "code",
   "execution_count": 3,
   "metadata": {},
   "outputs": [],
   "source": [
    "def compute_influential_Y(scores_lca_dict, params_yes_0, params_yes_inf, iterations_validation=500):\n",
    "\n",
    "    print(\"Number of influential parameters is {}\".format(params_yes_inf.shape[0]))\n",
    "    \n",
    "    # LCA model\n",
    "    bw.projects.set_current(\"GSA for setac\")\n",
    "    co = bw.Database(\"CH consumption 1.0\")\n",
    "    demand_act = [act for act in co if \"Food\" in act[\"name\"]][0]\n",
    "    demand = {demand_act: 1}\n",
    "    method = (\"IPCC 2013\", \"climate change\", \"GTP 100a\")\n",
    "    write_dir = path_base\n",
    "    model = LCAModel(demand, method, write_dir)\n",
    "\n",
    "    # Define some variables\n",
    "    seed = 923458\n",
    "    num_params = len(model)\n",
    "    bin_min, bin_max = 2300, 3300\n",
    "\n",
    "    default_amounts, uncertain_tech_params_where = get_amounts_means(\n",
    "        model.lca.tech_params\n",
    "    )\n",
    "    static_mean_score = get_static_score(\n",
    "        default_amounts, uncertain_tech_params_where, model.lca\n",
    "    )\n",
    "    validation = Validation(\n",
    "        model,\n",
    "        iterations=iterations_validation,\n",
    "        seed=seed,\n",
    "        default_x=default_amounts,\n",
    "        write_dir=write_dir,\n",
    "    )\n",
    "\n",
    "    params_yes_inf_where = np.array([np.where(params_yes_0==p)[0][0] for p in params_yes_inf])\n",
    "    influential_Y = validation.get_influential_Y_from_parameter_choice(\n",
    "        params_yes_inf_where\n",
    "    )\n",
    "    validation.plot_histogram(base_y=validation.base_Y, influential_y=influential_Y)"
   ]
  },
  {
   "cell_type": "code",
   "execution_count": 4,
   "metadata": {},
   "outputs": [],
   "source": [
    "# iterations_validation = 2000\n",
    "# compute_influential_Y(scores_lsa_dict, params_yes_0, params_yes_6, iterations_validation)"
   ]
  },
  {
   "cell_type": "markdown",
   "metadata": {},
   "source": [
    "# Validation after regression"
   ]
  },
  {
   "cell_type": "code",
   "execution_count": 5,
   "metadata": {},
   "outputs": [],
   "source": [
    "def get_xgboost_params(path_model_dir, params_yes_0):\n",
    "    path_model = path_model_dir / \"model\"\n",
    "    path_params_yes_where = path_model_dir / \"params_yes_where.pickle\"\n",
    "\n",
    "    with open(path_model, 'rb') as f:\n",
    "        model = pickle.load(f)\n",
    "    with open(path_params_yes_where, 'rb') as f:\n",
    "        params_yes_where = pickle.load(f)\n",
    "\n",
    "    fscore = model.get_score()\n",
    "    fscore_max = max(fscore.values())\n",
    "    for feature,fscore_val in fscore.items():\n",
    "        fscore[feature] = fscore_val/fscore_max\n",
    "    fscore_sorted = {k: v for k, v in sorted(fscore.items(), key=lambda item: item[1], reverse=True)}\n",
    "\n",
    "    features_inf = np.array([int(i.replace('f','')) for i in fscore_sorted.keys()])\n",
    "    importance_inf = np.array(list(fscore_sorted.values()))\n",
    "    n_inf = len(fscore)\n",
    "    params_yes_where_inf = params_yes_where[features_inf]\n",
    "\n",
    "    importance_dict = {params_yes_where_inf[i]: importance_inf[i] for i in range(n_inf)}\n",
    "\n",
    "    params_yes_xgboost = params_yes_0[params_yes_where_inf]\n",
    "    \n",
    "    return model, params_yes_xgboost"
   ]
  },
  {
   "cell_type": "code",
   "execution_count": null,
   "metadata": {},
   "outputs": [],
   "source": [
    "# %%time\n",
    "# seed = 78997\n",
    "# path_model_dir = path_base / \"regression\" / \"{}_model\".format(seed)\n",
    "# model, params_yes_xgboost = get_xgboost_params(path_model_dir, params_yes_0)\n",
    "\n",
    "# params_yes_xgboost.sort()\n",
    "# iterations_validation = 2000\n",
    "# compute_influential_Y(scores_lsa_dict, params_yes_0, params_yes_xgboost, iterations_validation)"
   ]
  },
  {
   "cell_type": "markdown",
   "metadata": {},
   "source": [
    "# Run MC with narrowed distributions"
   ]
  },
  {
   "cell_type": "code",
   "execution_count": 6,
   "metadata": {},
   "outputs": [],
   "source": [
    "seed = 78997\n",
    "path_model_dir = path_base / \"regression\" / \"{}_model\".format(seed)\n",
    "model, params_yes_xgboost = get_xgboost_params(path_model_dir, params_yes_0)\n",
    "\n",
    "iterations_validation = 20"
   ]
  },
  {
   "cell_type": "code",
   "execution_count": null,
   "metadata": {},
   "outputs": [],
   "source": []
  },
  {
   "cell_type": "code",
   "execution_count": null,
   "metadata": {},
   "outputs": [],
   "source": []
  },
  {
   "cell_type": "code",
   "execution_count": null,
   "metadata": {},
   "outputs": [],
   "source": []
  },
  {
   "cell_type": "code",
   "execution_count": null,
   "metadata": {},
   "outputs": [],
   "source": []
  },
  {
   "cell_type": "code",
   "execution_count": null,
   "metadata": {},
   "outputs": [],
   "source": []
  },
  {
   "cell_type": "code",
   "execution_count": 7,
   "metadata": {},
   "outputs": [
    {
     "data": {
      "text/plain": [
       "array([122610, 143775, 156564, ..., 141644,  55871, 139785])"
      ]
     },
     "execution_count": 7,
     "metadata": {},
     "output_type": "execute_result"
    }
   ],
   "source": [
    "bw.projects.set_current(\"GSA for setac\")\n",
    "co = bw.Database(\"CH consumption 1.0\")\n",
    "demand_act = [act for act in co if \"Food\" in act[\"name\"]][0]\n",
    "demand = {demand_act: 1}\n",
    "method = (\"IPCC 2013\", \"climate change\", \"GTP 100a\")\n",
    "write_dir = path_base\n",
    "model = LCAModel(demand, method, write_dir)"
   ]
  },
  {
   "cell_type": "code",
   "execution_count": null,
   "metadata": {},
   "outputs": [],
   "source": []
  },
  {
   "cell_type": "code",
   "execution_count": null,
   "metadata": {},
   "outputs": [],
   "source": []
  },
  {
   "cell_type": "code",
   "execution_count": null,
   "metadata": {},
   "outputs": [],
   "source": []
  },
  {
   "cell_type": "code",
   "execution_count": null,
   "metadata": {},
   "outputs": [],
   "source": []
  },
  {
   "cell_type": "code",
   "execution_count": null,
   "metadata": {},
   "outputs": [],
   "source": []
  },
  {
   "cell_type": "code",
   "execution_count": null,
   "metadata": {},
   "outputs": [],
   "source": []
  },
  {
   "cell_type": "code",
   "execution_count": null,
   "metadata": {},
   "outputs": [],
   "source": []
  }
 ],
 "metadata": {
  "kernelspec": {
   "display_name": "Python [conda env:bw]",
   "language": "python",
   "name": "conda-env-bw-py"
  },
  "language_info": {
   "codemirror_mode": {
    "name": "ipython",
    "version": 3
   },
   "file_extension": ".py",
   "mimetype": "text/x-python",
   "name": "python",
   "nbconvert_exporter": "python",
   "pygments_lexer": "ipython3",
   "version": "3.7.6"
  },
  "varInspector": {
   "cols": {
    "lenName": 16,
    "lenType": 16,
    "lenVar": 40
   },
   "kernels_config": {
    "python": {
     "delete_cmd_postfix": "",
     "delete_cmd_prefix": "del ",
     "library": "var_list.py",
     "varRefreshCmd": "print(var_dic_list())"
    },
    "r": {
     "delete_cmd_postfix": ") ",
     "delete_cmd_prefix": "rm(",
     "library": "var_list.r",
     "varRefreshCmd": "cat(var_dic_list()) "
    }
   },
   "types_to_exclude": [
    "module",
    "function",
    "builtin_function_or_method",
    "instance",
    "_Feature"
   ],
   "window_display": false
  }
 },
 "nbformat": 4,
 "nbformat_minor": 4
}
