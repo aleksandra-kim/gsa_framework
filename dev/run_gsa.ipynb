{
 "cells": [
  {
   "cell_type": "code",
   "execution_count": 1,
   "metadata": {},
   "outputs": [],
   "source": [
    "import gsa_framework as gf\n",
    "import brightway2 as bw\n",
    "from pathlib import Path\n",
    "import pickle"
   ]
  },
  {
   "cell_type": "code",
   "execution_count": 2,
   "metadata": {},
   "outputs": [],
   "source": [
    "path_base = Path('/Users/akim/PycharmProjects/gsa_framework/dev/write_files/paper_gsa/')\n",
    "# path_base = Path('/data/user/kim_a/paper_gsa/gsa_framework_files')"
   ]
  },
  {
   "cell_type": "code",
   "execution_count": 3,
   "metadata": {},
   "outputs": [
    {
     "name": "stdout",
     "output_type": "stream",
     "text": [
      "\n",
      ">>> morris\n",
      "--- correlation_coefficients\n",
      "--- sobol_indices\n",
      "Changing samples to saltelli, because indices convergence faster\n",
      "--- eFAST_indices\n",
      "Changing samples to eFAST, because indices convergence faster\n",
      "--- xgboost\n",
      "\n",
      ">>> sobol_levitan\n",
      "--- correlation_coefficients\n",
      "--- sobol_indices\n",
      "Changing samples to saltelli, because indices convergence faster\n",
      "--- eFAST_indices\n",
      "Changing samples to eFAST, because indices convergence faster\n",
      "--- xgboost\n"
     ]
    }
   ],
   "source": [
    "# 1. LCA model\n",
    "bw.projects.set_current('GSA for paper')\n",
    "co = bw.Database('CH consumption 1.0')\n",
    "act = co.search('average consumption')[0]\n",
    "demand = {act: 1}\n",
    "method = ('IPCC 2013', 'climate change', 'GTP 100a')\n",
    "\n",
    "write_dir_lca = path_base / 'lca_model'\n",
    "model_lca = gf.LCAModel(demand, method, write_dir_lca)\n",
    "const_lca = 2\n",
    "iterations_lca = model_lca.num_params * const_lca\n",
    "\n",
    "# 2. Moon model\n",
    "write_dir_moon = path_base / 'moon_model'\n",
    "model_moon = gf.Moon()\n",
    "const_moon = model_moon.num_params\n",
    "iterations_moon = model_moon.num_params * const_moon\n",
    "\n",
    "# 3. Morris model\n",
    "write_dir_morris = path_base / 'morris_model'\n",
    "model_morris = gf.Morris(num_params=50, num_influential=5)\n",
    "const_morris = model_morris.num_params*2\n",
    "iterations_morris = model_morris.num_params * const_morris\n",
    "\n",
    "# 3. Sobol-Levitan model\n",
    "write_dir_SL = path_base / 'sobol_levitan_model'\n",
    "model_SL = gf.SobolLevitan()\n",
    "const_SL = model_SL.num_params\n",
    "iterations_SL = model_SL.num_params * const_SL\n",
    "\n",
    "# 4. Problem\n",
    "models_dict = {\n",
    "    'lca': dict(\n",
    "        model= model_lca,\n",
    "        write_dir = write_dir_lca,\n",
    "        iterations = iterations_lca,\n",
    "        const = const_lca,\n",
    "    ),\n",
    "    'moon': dict(\n",
    "        model = model_moon,\n",
    "        write_dir = write_dir_moon,\n",
    "        iterations = iterations_moon,\n",
    "        const = const_moon,\n",
    "    ),\n",
    "    'morris': dict(\n",
    "        model = model_morris,\n",
    "        write_dir = write_dir_morris,\n",
    "        iterations = iterations_morris,\n",
    "        const = const_morris,\n",
    "    ),\n",
    "    'sobol_levitan': dict(\n",
    "        model = model_SL,\n",
    "        write_dir = write_dir_SL,\n",
    "        iterations = iterations_SL,\n",
    "        const = const_SL,\n",
    "    )\n",
    "}\n",
    "\n",
    "gsa_methods = [\n",
    "    'correlation_coefficients',\n",
    "    'sobol_indices',\n",
    "    'eFAST_indices',\n",
    "    'xgboost',\n",
    "    # 'dissimilarity_measure',\n",
    "]\n",
    "\n",
    "model_names = [\n",
    "#     'lca',\n",
    "    'morris',\n",
    "    'sobol_levitan',\n",
    "]\n",
    "\n",
    "for model_name in model_names:\n",
    "    print('\\n>>> ' + model_name)\n",
    "    model = models_dict[model_name]['model']\n",
    "    write_dir = models_dict[model_name]['write_dir']\n",
    "    if not write_dir.exists():\n",
    "        write_dir.mkdir(parents=True, exist_ok=True)\n",
    "    for gsa_method in gsa_methods:\n",
    "        print('--- ' + gsa_method)\n",
    "        problem = gf.Problem(\n",
    "            sampler = 'random',\n",
    "            model = model,\n",
    "            interpreter = gsa_method,\n",
    "            write_dir = write_dir,\n",
    "            iterations = models_dict[model_name]['iterations'],\n",
    "            seed = 34534,\n",
    "            X = None,\n",
    "        )\n",
    "        filename_sa_results = problem.gsa_dict['sa_results']\n",
    "        with open(filename_sa_results, 'rb') as f:\n",
    "            sa_results = pickle.load(f)\n",
    "        for sa_index_name, sa_index_values in sa_results.items():\n",
    "            sa_indices = {sa_index_name: sa_index_values}\n",
    "#             try:\n",
    "            problem.plot_sa_results(sa_indices, model.influential_params)\n",
    "#             except:\n",
    "#                 pass"
   ]
  },
  {
   "cell_type": "code",
   "execution_count": null,
   "metadata": {},
   "outputs": [],
   "source": []
  },
  {
   "cell_type": "code",
   "execution_count": null,
   "metadata": {},
   "outputs": [],
   "source": []
  },
  {
   "cell_type": "code",
   "execution_count": null,
   "metadata": {},
   "outputs": [],
   "source": []
  },
  {
   "cell_type": "code",
   "execution_count": null,
   "metadata": {},
   "outputs": [],
   "source": []
  },
  {
   "cell_type": "code",
   "execution_count": null,
   "metadata": {},
   "outputs": [],
   "source": []
  },
  {
   "cell_type": "code",
   "execution_count": null,
   "metadata": {},
   "outputs": [],
   "source": []
  },
  {
   "cell_type": "code",
   "execution_count": null,
   "metadata": {},
   "outputs": [],
   "source": []
  }
 ],
 "metadata": {
  "kernelspec": {
   "display_name": "Python 3",
   "language": "python",
   "name": "python3"
  },
  "language_info": {
   "codemirror_mode": {
    "name": "ipython",
    "version": 3
   },
   "file_extension": ".py",
   "mimetype": "text/x-python",
   "name": "python",
   "nbconvert_exporter": "python",
   "pygments_lexer": "ipython3",
   "version": "3.8.5"
  },
  "varInspector": {
   "cols": {
    "lenName": 16,
    "lenType": 16,
    "lenVar": 40
   },
   "kernels_config": {
    "python": {
     "delete_cmd_postfix": "",
     "delete_cmd_prefix": "del ",
     "library": "var_list.py",
     "varRefreshCmd": "print(var_dic_list())"
    },
    "r": {
     "delete_cmd_postfix": ") ",
     "delete_cmd_prefix": "rm(",
     "library": "var_list.r",
     "varRefreshCmd": "cat(var_dic_list()) "
    }
   },
   "types_to_exclude": [
    "module",
    "function",
    "builtin_function_or_method",
    "instance",
    "_Feature"
   ],
   "window_display": false
  }
 },
 "nbformat": 4,
 "nbformat_minor": 4
}
