{
 "cells": [
  {
   "cell_type": "code",
   "execution_count": 1,
   "metadata": {},
   "outputs": [
    {
     "name": "stdout",
     "output_type": "stream",
     "text": [
      "Using environment variable BRIGHTWAY2_DIR for data directory:\n",
      "/data/user/kim_a/Brightway3\n"
     ]
    }
   ],
   "source": [
    "import gsa_framework as gf\n",
    "import brightway2 as bw\n",
    "from pathlib import Path\n",
    "import pickle\n",
    "\n",
    "import dask"
   ]
  },
  {
   "cell_type": "code",
   "execution_count": 2,
   "metadata": {},
   "outputs": [],
   "source": [
    "# path_base = Path('/Users/akim/PycharmProjects/gsa_framework/dev/write_files/paper_gsa/')\n",
    "path_base = Path('/data/user/kim_a/paper_gsa/gsa_framework_files')"
   ]
  },
  {
   "cell_type": "code",
   "execution_count": 3,
   "metadata": {},
   "outputs": [],
   "source": [
    "# 1. LCA model\n",
    "bw.projects.set_current('GSA for paper')\n",
    "co = bw.Database('CH consumption 1.0')\n",
    "act = co.search('average consumption')[0]\n",
    "demand = {act: 1}\n",
    "method = ('IPCC 2013', 'climate change', 'GTP 100a')\n",
    "\n",
    "write_dir_lca = path_base / 'lca_model'\n",
    "model_lca = gf.LCAModel(demand, method, write_dir_lca)\n",
    "const_lca = 2\n",
    "iterations_lca = model_lca.num_params * const_lca\n",
    "\n",
    "# 2. Moon model\n",
    "write_dir_moon = path_base / 'moon_model'\n",
    "model_moon = gf.Moon()\n",
    "const_moon = 2\n",
    "iterations_moon = model_moon.num_params * const_moon\n",
    "\n",
    "# 3. Morris model\n",
    "write_dir_morris = path_base / 'morris_model'\n",
    "model_morris = gf.Morris(num_params=120000, num_influential=12000)\n",
    "const_morris = 2\n",
    "iterations_morris = model_morris.num_params * const_morris\n",
    "\n",
    "# 3. Sobol-Levitan model\n",
    "write_dir_SL = path_base / 'sobol_levitan_model'\n",
    "model_SL = gf.SobolLevitan(num_params=5000)\n",
    "const_SL = 2\n",
    "iterations_SL = model_SL.num_params * const_SL\n",
    "\n",
    "# 4. Problem\n",
    "models_dict = {\n",
    "    'lca': dict(\n",
    "        model= model_lca,\n",
    "        write_dir = write_dir_lca,\n",
    "        iterations = iterations_lca,\n",
    "        const = const_lca,\n",
    "    ),\n",
    "    'moon': dict(\n",
    "        model = model_moon,\n",
    "        write_dir = write_dir_moon,\n",
    "        iterations = iterations_moon,\n",
    "        const = const_moon,\n",
    "    ),\n",
    "    'morris': dict(\n",
    "        model = model_morris,\n",
    "        write_dir = write_dir_morris,\n",
    "        iterations = iterations_morris,\n",
    "        const = const_morris,\n",
    "    ),\n",
    "    'sobol_levitan': dict(\n",
    "        model = model_SL,\n",
    "        write_dir = write_dir_SL,\n",
    "        iterations = iterations_SL,\n",
    "        const = const_SL,\n",
    "    )\n",
    "}"
   ]
  },
  {
   "cell_type": "markdown",
   "metadata": {},
   "source": [
    "# DASK delayed"
   ]
  },
  {
   "cell_type": "code",
   "execution_count": 4,
   "metadata": {},
   "outputs": [],
   "source": [
    "gsa_methods = [\n",
    "    'correlation_coefficients',\n",
    "#     'sobol_indices',\n",
    "#     'eFAST_indices',\n",
    "#     'xgboost',\n",
    "    # 'dissimilarity_measure',\n",
    "]\n",
    "\n",
    "model_names = [\n",
    "    'lca',\n",
    "#     'morris',\n",
    "#     'sobol_levitan',\n",
    "]"
   ]
  },
  {
   "cell_type": "code",
   "execution_count": 5,
   "metadata": {},
   "outputs": [
    {
     "name": "stdout",
     "output_type": "stream",
     "text": [
      "\n",
      ">>> lca\n",
      "--- correlation_coefficients -> 114688 parameters, None iterations\n",
      "CPU times: user 2.6 ms, sys: 0 ns, total: 2.6 ms\n",
      "Wall time: 1.52 ms\n"
     ]
    }
   ],
   "source": [
    "%%time\n",
    "problem_per_worker = dask.delayed(gf.Problem)\n",
    "# problem_per_worker = gf.Problem\n",
    "\n",
    "model_evals = []\n",
    "for model_name in model_names:\n",
    "    print('\\n>>> ' + model_name)\n",
    "    model = models_dict[model_name]['model']\n",
    "    write_dir = models_dict[model_name]['write_dir']\n",
    "    if not write_dir.exists():\n",
    "        write_dir.mkdir(parents=True, exist_ok=True)\n",
    "    for gsa_method in gsa_methods:\n",
    "        if gsa_method == 'eFAST_indices':\n",
    "            iterations = 130\n",
    "        elif gsa_method == 'correlation_coefficients':\n",
    "            iterations = None\n",
    "        else:\n",
    "            iterations = models_dict[model_name]['iterations']\n",
    "        print('--- ' + gsa_method + ' -> ' + str(model.num_params) + ' parameters, ' + str(iterations) + ' iterations')\n",
    "        problem = problem_per_worker(\n",
    "            sampler = 'random',\n",
    "            model = model,\n",
    "            interpreter = gsa_method,\n",
    "            write_dir = write_dir,\n",
    "            iterations = iterations,\n",
    "            seed = 34534,\n",
    "            X = None,\n",
    "        )\n",
    "        model_evals.append(problem)\n",
    "#         # Plotting\n",
    "#         filename_sa_results = problem.gsa_dict['sa_results']\n",
    "#         with open(filename_sa_results, 'rb') as f:\n",
    "#             sa_results = pickle.load(f)\n",
    "#         for sa_index_name, sa_index_values in sa_results.items():\n",
    "#             sa_indices = {sa_index_name: sa_index_values}\n",
    "#             try:\n",
    "#                 problem.plot_sa_results(sa_indices, model.influential_params)\n",
    "#             except:\n",
    "#                 pass"
   ]
  },
  {
   "cell_type": "markdown",
   "metadata": {},
   "source": [
    "# DASK workers"
   ]
  },
  {
   "cell_type": "code",
   "execution_count": 6,
   "metadata": {},
   "outputs": [],
   "source": [
    "from dask.distributed import Client, LocalCluster\n",
    "from dask_jobqueue import SLURMCluster\n",
    "import os"
   ]
  },
  {
   "cell_type": "code",
   "execution_count": 7,
   "metadata": {},
   "outputs": [],
   "source": [
    "which_pc = 'merlin'\n",
    "\n",
    "if 'merlin' in which_pc:\n",
    "    path_dask_logs = Path('/data/user/kim_a/dask_logs')\n",
    "    if not path_dask_logs.exists():\n",
    "        path_dask_logs.mkdir(parents=True, exist_ok=True)\n",
    "    cluster = SLURMCluster(cores     = 2, \n",
    "                           memory    ='28GB', \n",
    "                           walltime  = '00:50:00',\n",
    "                           interface ='ib0',\n",
    "                           local_directory = path_dask_logs,\n",
    "                           log_directory   = path_dask_logs,\n",
    "                           queue = 'hourly',\n",
    "                           ) \n",
    "elif 'local' in which_pc:\n",
    "    cluster = LocalCluster(memory_limit='7GB') "
   ]
  },
  {
   "cell_type": "code",
   "execution_count": 8,
   "metadata": {},
   "outputs": [],
   "source": [
    "client = Client(cluster)"
   ]
  },
  {
   "cell_type": "code",
   "execution_count": 9,
   "metadata": {},
   "outputs": [],
   "source": [
    "n_workers = len(gsa_methods) * len(model_names)\n",
    "cluster.scale(n_workers)"
   ]
  },
  {
   "cell_type": "code",
   "execution_count": 20,
   "metadata": {},
   "outputs": [
    {
     "data": {
      "text/html": [
       "<table style=\"border: 2px solid white;\">\n",
       "<tr>\n",
       "<td style=\"vertical-align: top; border: 0px solid white\">\n",
       "<h3 style=\"text-align: left;\">Client</h3>\n",
       "<ul style=\"text-align: left; list-style: none; margin: 0; padding: 0;\">\n",
       "  <li><b>Scheduler: </b>tcp://192.168.196.62:39569</li>\n",
       "  <li><b>Dashboard: </b><a href='http://192.168.196.62:8787/status' target='_blank'>http://192.168.196.62:8787/status</a></li>\n",
       "</ul>\n",
       "</td>\n",
       "<td style=\"vertical-align: top; border: 0px solid white\">\n",
       "<h3 style=\"text-align: left;\">Cluster</h3>\n",
       "<ul style=\"text-align: left; list-style:none; margin: 0; padding: 0;\">\n",
       "  <li><b>Workers: </b>2</li>\n",
       "  <li><b>Cores: </b>2</li>\n",
       "  <li><b>Memory: </b>28.00 GB</li>\n",
       "</ul>\n",
       "</td>\n",
       "</tr>\n",
       "</table>"
      ],
      "text/plain": [
       "<Client: 'tcp://192.168.196.62:39569' processes=2 threads=2, memory=28.00 GB>"
      ]
     },
     "execution_count": 20,
     "metadata": {},
     "output_type": "execute_result"
    }
   ],
   "source": [
    "client"
   ]
  },
  {
   "cell_type": "code",
   "execution_count": null,
   "metadata": {},
   "outputs": [],
   "source": [
    "# client.close()\n",
    "# cluster.close()"
   ]
  },
  {
   "cell_type": "markdown",
   "metadata": {},
   "source": [
    "# Dask compute"
   ]
  },
  {
   "cell_type": "code",
   "execution_count": null,
   "metadata": {},
   "outputs": [],
   "source": [
    "%%time\n",
    "dask.compute(model_evals)"
   ]
  },
  {
   "cell_type": "code",
   "execution_count": null,
   "metadata": {},
   "outputs": [],
   "source": []
  }
 ],
 "metadata": {
  "kernelspec": {
   "display_name": "Python [conda env:gsa-dev]",
   "language": "python",
   "name": "conda-env-gsa-dev-py"
  },
  "language_info": {
   "codemirror_mode": {
    "name": "ipython",
    "version": 3
   },
   "file_extension": ".py",
   "mimetype": "text/x-python",
   "name": "python",
   "nbconvert_exporter": "python",
   "pygments_lexer": "ipython3",
   "version": "3.8.5"
  },
  "varInspector": {
   "cols": {
    "lenName": 16,
    "lenType": 16,
    "lenVar": 40
   },
   "kernels_config": {
    "python": {
     "delete_cmd_postfix": "",
     "delete_cmd_prefix": "del ",
     "library": "var_list.py",
     "varRefreshCmd": "print(var_dic_list())"
    },
    "r": {
     "delete_cmd_postfix": ") ",
     "delete_cmd_prefix": "rm(",
     "library": "var_list.r",
     "varRefreshCmd": "cat(var_dic_list()) "
    }
   },
   "types_to_exclude": [
    "module",
    "function",
    "builtin_function_or_method",
    "instance",
    "_Feature"
   ],
   "window_display": false
  }
 },
 "nbformat": 4,
 "nbformat_minor": 4
}
