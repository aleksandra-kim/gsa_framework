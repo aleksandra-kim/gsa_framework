{
 "cells": [
  {
   "cell_type": "code",
   "execution_count": null,
   "metadata": {},
   "outputs": [],
   "source": [
    "import brightway2 as bw\n",
    "from pathlib import Path\n",
    "from gsa_framework import LCAModel\n",
    "from gsa_framework.validation import Validation\n",
    "from gsa_framework.utils_setac_lca import *\n",
    "from gsa_framework.utils import read_hdf5_array\n",
    "import pandas as pd\n",
    "\n",
    "import networkx as nx\n",
    "import matplotlib.pyplot as plt"
   ]
  },
  {
   "cell_type": "code",
   "execution_count": null,
   "metadata": {},
   "outputs": [],
   "source": [
    "path_base = Path('/data/user/kim_a/setac_gsa/')\n",
    "path_merlin = path_base / \"merlin\"\n",
    "filepath_scores_lsa_dict = path_merlin / \"scores_lsa_dict.pickle\"\n",
    "filepath_params_yes_0 = path_merlin / \"params_yes_0.pickle\"\n",
    "filepath_params_yes_6 = path_merlin / \"params_yes_6.pickle\"\n",
    "\n",
    "with open(filepath_scores_lsa_dict, 'rb') as f:\n",
    "    scores_lsa_dict = pickle.load(f)\n",
    "    \n",
    "with open(filepath_params_yes_0, 'rb') as f:\n",
    "    params_yes_0 = pickle.load(f)\n",
    "    \n",
    "with open(filepath_params_yes_6, 'rb') as f:\n",
    "    params_yes_6 = pickle.load(f)"
   ]
  },
  {
   "cell_type": "code",
   "execution_count": null,
   "metadata": {},
   "outputs": [],
   "source": [
    "seed = 3333\n",
    "path_model_dir = path_base / \"regression\" / \"{}_model\".format(seed)\n",
    "model, params_yes_xgboost, importance_dict = get_xgboost_params(path_model_dir, params_yes_0)"
   ]
  },
  {
   "cell_type": "markdown",
   "metadata": {},
   "source": [
    "# Save rows cols, and tech_params"
   ]
  },
  {
   "cell_type": "code",
   "execution_count": null,
   "metadata": {},
   "outputs": [],
   "source": [
    "bw.projects.set_current(\"GSA for setac\")\n",
    "co = bw.Database(\"CH consumption 1.0\")\n",
    "demand_act = [act for act in co if \"Food\" in act[\"name\"]][0]\n",
    "demand = {demand_act: 1}\n",
    "method = (\"IPCC 2013\", \"climate change\", \"GTP 100a\")\n",
    "lca = bw.LCA(demand, method)\n",
    "lca.lci()\n",
    "lca.lcia()\n",
    "print(lca.score)\n",
    "\n",
    "tech_params_inf = lca.tech_params[params_yes_xgboost]\n",
    "params_yes_xgboost_where = np.array([np.where(params_yes_0==p)[0][0] for p in params_yes_xgboost])"
   ]
  },
  {
   "cell_type": "code",
   "execution_count": null,
   "metadata": {},
   "outputs": [],
   "source": [
    "filepath_row_acts = path_model_dir / 'row_acts.pickle'\n",
    "filepath_col_acts = path_model_dir / 'col_acts.pickle'\n",
    "filepath_tech_params = path_model_dir / 'tech_params.pickle'\n",
    "\n",
    "filepath_row_acts_names = path_model_dir / 'row_acts_names.pickle'\n",
    "filepath_col_acts_names = path_model_dir / 'col_acts_names.pickle'"
   ]
  },
  {
   "cell_type": "code",
   "execution_count": null,
   "metadata": {},
   "outputs": [],
   "source": [
    "%%time\n",
    "row_acts, col_acts = [],[]\n",
    "for p in tech_params_inf:\n",
    "    row = p['row']\n",
    "    col = p['col']\n",
    "    row_acts.append(bw.get_activity(lca.reverse_dict()[0][row]))\n",
    "    col_acts.append(bw.get_activity(lca.reverse_dict()[0][col]))"
   ]
  },
  {
   "cell_type": "code",
   "execution_count": null,
   "metadata": {},
   "outputs": [],
   "source": [
    "row_acts_names = []\n",
    "col_acts_names = []\n",
    "for i in range(len(row_acts)):\n",
    "#     print('output: ' + col_acts[i]['name'] + ' (' + col_acts[i]['unit'] + ', ' + col_acts[i]['location'] + ')')\n",
    "#     print('input:  ' + row_acts[i]['name'] + ' (' + row_acts[i]['unit'] + ', ' + row_acts[i]['location'] + ')\\n')\n",
    "    row_acts_names.append(\n",
    "        [\n",
    "            row_acts[i]['name'], row_acts[i]['unit'], row_acts[i]['location']\n",
    "        ]\n",
    "    )\n",
    "    col_acts_names.append(\n",
    "        [\n",
    "            col_acts[i]['name'], col_acts[i]['unit'], col_acts[i]['location']\n",
    "        ]\n",
    "    )"
   ]
  },
  {
   "cell_type": "code",
   "execution_count": null,
   "metadata": {},
   "outputs": [],
   "source": [
    "with open(filepath_row_acts, 'wb') as f:\n",
    "     pickle.dump(row_acts, f)\n",
    "with open(filepath_col_acts, 'wb') as f:\n",
    "     pickle.dump(col_acts, f)       \n",
    "with open(filepath_tech_params, 'wb') as f:\n",
    "     pickle.dump(tech_params_inf, f)\n",
    "        \n",
    "with open(filepath_row_acts_names, 'wb') as f:\n",
    "     pickle.dump(row_acts_names, f)\n",
    "with open(filepath_col_acts_names, 'wb') as f:\n",
    "     pickle.dump(col_acts_names, f)"
   ]
  },
  {
   "cell_type": "code",
   "execution_count": null,
   "metadata": {},
   "outputs": [],
   "source": [
    "with open(filepath_row_acts, 'rb') as f:\n",
    "     row_acts = pickle.load(f)\n",
    "with open(filepath_col_acts, 'rb') as f:\n",
    "     col_acts = pickle.load(f)       \n",
    "with open(filepath_tech_params, 'rb') as f:\n",
    "     tech_params_inf = pickle.load(f)\n",
    "        \n",
    "with open(filepath_row_acts_names, 'rb') as f:\n",
    "     row_acts_names = pickle.load(f)\n",
    "with open(filepath_col_acts_names, 'rb') as f:\n",
    "     col_acts_names = pickle.load(f)"
   ]
  },
  {
   "cell_type": "markdown",
   "metadata": {},
   "source": [
    "# Some analysis"
   ]
  },
  {
   "cell_type": "code",
   "execution_count": null,
   "metadata": {},
   "outputs": [],
   "source": [
    "activity_dict = lca.activity_dict"
   ]
  },
  {
   "cell_type": "code",
   "execution_count": null,
   "metadata": {},
   "outputs": [],
   "source": [
    "co.search(\"pork, fresh\")"
   ]
  },
  {
   "cell_type": "code",
   "execution_count": null,
   "metadata": {},
   "outputs": [],
   "source": [
    "input_acts = [\n",
    "    co.search(\"hard cheese\")[0],\n",
    "    co.search(\"sausages\")[0],\n",
    "    co.search(\"beef\")[0],\n",
    "    co.search(\"chocolate\")[0],\n",
    "    co.search(\"pork, fresh\")[0]\n",
    "]"
   ]
  },
  {
   "cell_type": "code",
   "execution_count": null,
   "metadata": {},
   "outputs": [],
   "source": [
    "plt.figure(figsize=(10,10))\n",
    "\n",
    "G = nx.DiGraph()\n",
    "pos = {\n",
    "    activity_dict[demand_act]: (len(input_acts)//2+1,0),\n",
    "    \"bio\": (len(input_acts)+1,0),# all biosphere\n",
    "}\n",
    "\n",
    "# First level\n",
    "exchanges1 = []\n",
    "exchanges1_acts = []\n",
    "for exc in demand_act.exchanges():\n",
    "    if exc['amount']!=0 and exc.get(\"type\") != \"production\" and exc.input in input_acts:\n",
    "        exchanges1.append(activity_dict[exc.input])\n",
    "        exchanges1_acts.append(exc.input)\n",
    "    \n",
    "# Second level\n",
    "exchanges2 = []\n",
    "exchanges2_acts = []\n",
    "for act in exchanges1_acts:\n",
    "    exchanges2_temp = []\n",
    "    exchanges2_acts_temp = []\n",
    "    for exc in act.exchanges():\n",
    "        if exc['amount']!=0 and exc.get(\"type\") != \"production\":\n",
    "            exchanges2_temp.append(activity_dict[exc.input])\n",
    "            exchanges2_acts_temp.append(exc.input)\n",
    "    exchanges2.append(exchanges2_temp)\n",
    "    exchanges2_acts.append(exchanges2_acts_temp)\n",
    "    \n",
    "for i,exc in enumerate(exchanges):\n",
    "    pos[exc] = (i+1,-1)\n",
    "\n",
    "k = 1\n",
    "for i,excs in enumerate(exchanges2):\n",
    "    for j,exc in enumerate(excs):\n",
    "        pos[exc] = (k,-2)\n",
    "        k += 1\n",
    "    k += 1\n",
    "\n",
    "for key in pos.keys():\n",
    "    G.add_node(key)\n",
    "\n",
    "# Adjust label location\n",
    "for key, val in pos.items():\n",
    "    pos_labels[key] = (val[0],val[1]+0.1)\n",
    "Gdraw = nx.draw_networkx_nodes(G, pos, node_size=100)\n",
    "Gdraw = nx.draw_networkx_labels(G, pos_labels)"
   ]
  },
  {
   "cell_type": "code",
   "execution_count": null,
   "metadata": {},
   "outputs": [],
   "source": [
    "exchanges2"
   ]
  },
  {
   "cell_type": "code",
   "execution_count": null,
   "metadata": {},
   "outputs": [],
   "source": [
    "co.search(\"hard cheese\")[0]"
   ]
  },
  {
   "cell_type": "code",
   "execution_count": null,
   "metadata": {},
   "outputs": [],
   "source": []
  },
  {
   "cell_type": "code",
   "execution_count": null,
   "metadata": {},
   "outputs": [],
   "source": []
  },
  {
   "cell_type": "code",
   "execution_count": null,
   "metadata": {},
   "outputs": [],
   "source": [
    "n_inf = 60\n",
    "tech_params_analysis = tech_params_inf[:n_inf]\n",
    "row_acts_inds = tech_params_analysis[\"row\"]\n",
    "col_acts_inds = tech_params_analysis[\"col\"]\n",
    "importances = np.array(list(importance_dict.values()))\n",
    "importances = importances // min(importances)\n",
    "importances_graph = importances[:n_inf]"
   ]
  },
  {
   "cell_type": "code",
   "execution_count": null,
   "metadata": {},
   "outputs": [],
   "source": [
    "G = nx.DiGraph()\n",
    "for i in range(n_inf):\n",
    "    G.add_edge(row_acts_inds[i], col_acts_inds[i], weight=importances_graph[i])\n",
    "    \n",
    "plt.figure(figsize=(10,10))\n",
    "pos = nx.shell_layout(G)\n",
    "nx.draw_networkx_nodes(G,pos,node_size=100)\n",
    "nx.draw_networkx_edges(G,pos)\n",
    "nx.draw_networkx_labels(G,pos)\n",
    "edge_labels = { (u,v): \"{:3.0f}\".format(d['weight']) for u,v,d in G.edges(data=True) }\n",
    "labels = nx.draw_networkx_edge_labels(G,pos,edge_labels=edge_labels)"
   ]
  },
  {
   "cell_type": "code",
   "execution_count": null,
   "metadata": {},
   "outputs": [],
   "source": [
    "df = pd.DataFrame"
   ]
  },
  {
   "cell_type": "code",
   "execution_count": null,
   "metadata": {},
   "outputs": [],
   "source": [
    "path_base"
   ]
  },
  {
   "cell_type": "code",
   "execution_count": null,
   "metadata": {},
   "outputs": [],
   "source": []
  },
  {
   "cell_type": "code",
   "execution_count": null,
   "metadata": {},
   "outputs": [],
   "source": []
  },
  {
   "cell_type": "code",
   "execution_count": null,
   "metadata": {},
   "outputs": [],
   "source": []
  },
  {
   "cell_type": "code",
   "execution_count": null,
   "metadata": {},
   "outputs": [],
   "source": []
  },
  {
   "cell_type": "code",
   "execution_count": null,
   "metadata": {},
   "outputs": [],
   "source": [
    "def get_exc_inputs(acts, lca):\n",
    "    lca.tech_params\n",
    "    exc_inputs = {}\n",
    "    for act in acts:\n",
    "        for exc in act.exchanges():\n",
    "            if exc[\"amount\"]!=0 and exc[\"type\"]!=\"production\":\n",
    "                exc_inputs[exc.input] = {\n",
    "                    \"amount\": exc.amount,\n",
    "                    \"ind\": activity_dict.get(exc.input, None)\n",
    "                }\n",
    "    return exc_inputs"
   ]
  },
  {
   "cell_type": "code",
   "execution_count": null,
   "metadata": {},
   "outputs": [],
   "source": [
    "activity_name = \"hard cheese\"\n",
    "for exc in demand_act.exchanges():\n",
    "    if activity_name in exc.input[\"name\"]:\n",
    "        activity_amount = exc[\"amount\"]\n",
    "        break"
   ]
  },
  {
   "cell_type": "code",
   "execution_count": null,
   "metadata": {},
   "outputs": [],
   "source": [
    "act1 = [\n",
    "    (\n",
    "        activity_dict.get(cheese_act), #in\n",
    "        activity_dict.get(demand_act), #out\n",
    "        activity_amount, #amount\n",
    "    )\n",
    "]\n",
    "act2 = get_exc_inputs(act1)\n",
    "act3 = get_exc_inputs(act2)\n",
    "act4 = get_exc_inputs(act3)"
   ]
  },
  {
   "cell_type": "code",
   "execution_count": null,
   "metadata": {},
   "outputs": [],
   "source": [
    "cheese3"
   ]
  },
  {
   "cell_type": "code",
   "execution_count": null,
   "metadata": {},
   "outputs": [],
   "source": [
    "all_cheese = [cheese1, cheese2, cheese3, cheese4, ]\n",
    "# for dict_act in all_cheese:\n",
    "#     G.add_edge(acts_names_in[i], acts_names_out[i], weight=weights_rounded[i])"
   ]
  },
  {
   "cell_type": "code",
   "execution_count": null,
   "metadata": {},
   "outputs": [],
   "source": [
    "all_cheese"
   ]
  },
  {
   "cell_type": "code",
   "execution_count": null,
   "metadata": {},
   "outputs": [],
   "source": [
    "cheese_act"
   ]
  },
  {
   "cell_type": "code",
   "execution_count": null,
   "metadata": {},
   "outputs": [],
   "source": [
    "G = nx.DiGraph()\n",
    "\n",
    "n_display_characters = 20\n",
    "weights  = uncertain_params['amount']\n",
    "weights_rounded = abs(np.round(weights, decimals = 2))\n",
    "\n",
    "acts_in, acts_out, acts_names_in, acts_names_out  = [0]*n_params, [0]*n_params, [0]*n_params, [0]*n_params\n",
    "\n",
    "unique_nodes = {}\n",
    "\n",
    "for i,p in enumerate(uncertain_params):\n",
    "    acts_in[i]  = bw.get_activity(reverse_act_dict[p['row']])\n",
    "    acts_out[i] = bw.get_activity(reverse_act_dict[p['col']])\n",
    "    acts_names_in[i]  = str(p['row']) + '_' + acts_in[i]['name'][:n_display_characters]\n",
    "    acts_names_out[i] = str(p['col']) + '_' + acts_out[i]['name'][:n_display_characters]\n",
    "    if p['amount'] > 0:\n",
    "        G.add_edge(acts_names_in[i], acts_names_out[i], weight=weights_rounded[i])\n",
    "    elif p['amount'] < 0:\n",
    "        G.add_edge(acts_names_out[i], acts_names_in[i], weight=weights_rounded[i])\n",
    "    else:\n",
    "        print('amount = 0')\n",
    "        \n",
    "#     node = unique_nodes.get(acts_names_in, None)\n",
    "#     if node != None:\n",
    "#         assert node == p['row']\n",
    "#     unique_nodes[acts_names_in] = p['row']\n",
    "    \n",
    "edge_labels = { (u,v): d['weight'] for u,v,d in G.edges(data=True) }"
   ]
  },
  {
   "cell_type": "code",
   "execution_count": null,
   "metadata": {},
   "outputs": [],
   "source": []
  },
  {
   "cell_type": "code",
   "execution_count": null,
   "metadata": {},
   "outputs": [],
   "source": []
  },
  {
   "cell_type": "code",
   "execution_count": null,
   "metadata": {},
   "outputs": [],
   "source": []
  },
  {
   "cell_type": "code",
   "execution_count": null,
   "metadata": {},
   "outputs": [],
   "source": []
  },
  {
   "cell_type": "code",
   "execution_count": null,
   "metadata": {},
   "outputs": [],
   "source": []
  },
  {
   "cell_type": "code",
   "execution_count": null,
   "metadata": {},
   "outputs": [],
   "source": []
  },
  {
   "cell_type": "code",
   "execution_count": null,
   "metadata": {},
   "outputs": [],
   "source": []
  },
  {
   "cell_type": "code",
   "execution_count": null,
   "metadata": {},
   "outputs": [],
   "source": []
  },
  {
   "cell_type": "code",
   "execution_count": null,
   "metadata": {},
   "outputs": [],
   "source": []
  },
  {
   "cell_type": "code",
   "execution_count": null,
   "metadata": {},
   "outputs": [],
   "source": [
    "exc.as_dict()"
   ]
  },
  {
   "cell_type": "code",
   "execution_count": null,
   "metadata": {},
   "outputs": [],
   "source": []
  },
  {
   "cell_type": "code",
   "execution_count": null,
   "metadata": {},
   "outputs": [],
   "source": []
  },
  {
   "cell_type": "code",
   "execution_count": null,
   "metadata": {},
   "outputs": [],
   "source": []
  },
  {
   "cell_type": "code",
   "execution_count": null,
   "metadata": {},
   "outputs": [],
   "source": []
  },
  {
   "cell_type": "code",
   "execution_count": null,
   "metadata": {},
   "outputs": [],
   "source": []
  },
  {
   "cell_type": "code",
   "execution_count": null,
   "metadata": {},
   "outputs": [],
   "source": []
  }
 ],
 "metadata": {
  "kernelspec": {
   "display_name": "Python [conda env:bw]",
   "language": "python",
   "name": "conda-env-bw-py"
  },
  "language_info": {
   "codemirror_mode": {
    "name": "ipython",
    "version": 3
   },
   "file_extension": ".py",
   "mimetype": "text/x-python",
   "name": "python",
   "nbconvert_exporter": "python",
   "pygments_lexer": "ipython3",
   "version": "3.7.6"
  },
  "varInspector": {
   "cols": {
    "lenName": 16,
    "lenType": 16,
    "lenVar": 40
   },
   "kernels_config": {
    "python": {
     "delete_cmd_postfix": "",
     "delete_cmd_prefix": "del ",
     "library": "var_list.py",
     "varRefreshCmd": "print(var_dic_list())"
    },
    "r": {
     "delete_cmd_postfix": ") ",
     "delete_cmd_prefix": "rm(",
     "library": "var_list.r",
     "varRefreshCmd": "cat(var_dic_list()) "
    }
   },
   "types_to_exclude": [
    "module",
    "function",
    "builtin_function_or_method",
    "instance",
    "_Feature"
   ],
   "window_display": false
  }
 },
 "nbformat": 4,
 "nbformat_minor": 4
}
