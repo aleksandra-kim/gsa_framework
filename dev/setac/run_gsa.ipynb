{
 "cells": [
  {
   "cell_type": "code",
   "execution_count": null,
   "metadata": {},
   "outputs": [],
   "source": [
    "import brightway2 as bw\n",
    "from pathlib import Path\n",
    "from gsa_framework import LCAModel\n",
    "from gsa_framework.validation import Validation\n",
    "from gsa_framework.utils_setac_lca import *\n",
    "from gsa_framework.utils import read_hdf5_array"
   ]
  },
  {
   "cell_type": "code",
   "execution_count": null,
   "metadata": {},
   "outputs": [],
   "source": [
    "path_base = Path('/data/user/kim_a/setac_gsa/')\n",
    "path_merlin = path_base / \"merlin\"\n",
    "filepath_scores_lsa_dict = path_merlin / \"scores_lsa_dict.pickle\"\n",
    "filepath_params_yes_0 = path_merlin / \"params_yes_0.pickle\"\n",
    "filepath_params_yes_6 = path_merlin / \"params_yes_6.pickle\"\n",
    "\n",
    "with open(filepath_scores_lsa_dict, 'rb') as f:\n",
    "    scores_lsa_dict = pickle.load(f)\n",
    "    \n",
    "with open(filepath_params_yes_0, 'rb') as f:\n",
    "    params_yes_0 = pickle.load(f)\n",
    "    \n",
    "with open(filepath_params_yes_6, 'rb') as f:\n",
    "    params_yes_6 = pickle.load(f)"
   ]
  },
  {
   "cell_type": "markdown",
   "metadata": {},
   "source": [
    "# Influential Y after refactoring of validation and regression"
   ]
  },
  {
   "cell_type": "code",
   "execution_count": null,
   "metadata": {},
   "outputs": [],
   "source": [
    "# path_base = Path(\n",
    "#     \"/Users/akim/PycharmProjects/gsa_framework/dev/write_files/paper_gsa/\"\n",
    "# )\n",
    "path_base = Path('/data/user/kim_a/')\n",
    "\n",
    "# LCA model\n",
    "bw.projects.set_current(\"GSA for setac\")\n",
    "co = bw.Database(\"CH consumption 1.0\")\n",
    "demand_act = [act for act in co if \"Food\" in act[\"name\"]][0]\n",
    "demand = {demand_act: 1}\n",
    "method = (\"IPCC 2013\", \"climate change\", \"GTP 100a\")\n",
    "write_dir = path_base / \"setac_gsa\"\n",
    "# var_threshold = 100\n",
    "lca_model = LCAModel(demand, method, write_dir)\n",
    "\n",
    "# Define some variables\n",
    "# seed 10447 refers to default_x_rescaled=amounts\n",
    "# seed 923458 referse to default_x_rescaled=model.default_x_rescaled\n",
    "seed = 10447 \n",
    "num_params = len(lca_model)\n",
    "iterations_validation = 2000\n",
    "bin_min, bin_max = 2300, 3300\n",
    "\n",
    "tech_params = lca_model.lca.tech_params\n",
    "amounts = tech_params[tech_params[\"uncertainty_type\"]>1][\"amount\"]\n",
    "\n",
    "validation = Validation(\n",
    "    lca_model,\n",
    "    iterations=iterations_validation,\n",
    "    seed=seed,\n",
    "#     default_x_rescaled=lca_model.default_x_rescaled, #TODO change??\n",
    "    write_dir=write_dir,\n",
    ")\n",
    "\n",
    "# 1. Validation plot base_Y\n",
    "validation.plot_histogram_base_Y(bin_min=bin_min, bin_max=bin_max, save_fig=False)"
   ]
  },
  {
   "cell_type": "code",
   "execution_count": null,
   "metadata": {},
   "outputs": [],
   "source": [
    "# 2. Influential_Y after LSA_3\n",
    "params_yes_inf = params_yes_6\n",
    "\n",
    "params_yes_inf_where = np.array([np.where(params_yes_0==p)[0][0] for p in params_yes_inf])\n",
    "parameter_choice = params_yes_inf_where\n",
    "influential_Y = validation.get_influential_Y_from_parameter_choice(parameter_choice)\n",
    "validation.plot_histogram_base_Y_influential_Y(\n",
    "    influential_Y, tag=len(parameter_choice), save_fig=False, bin_min=bin_min, bin_max=bin_max\n",
    ")\n",
    "\n",
    "# 3. After regression, 8722 parameters\n",
    "# model_seed = 3333\n",
    "# path_model_dir = write_dir / \"regression\" / \"{}_model\".format(model_seed)\n",
    "# model, params_yes_xgboost, _ = get_xgboost_params(path_model_dir, params_yes_0)\n",
    "# params_yes_inf = params_yes_xgboost\n",
    "# params_yes_inf_where = np.array([np.where(params_yes_0==p)[0][0] for p in params_yes_inf])\n",
    "\n",
    "# parameter_choice = params_yes_inf_where\n",
    "# influential_Y = validation.get_influential_Y_from_parameter_choice(parameter_choice)\n",
    "\n",
    "# validation.plot_histogram_base_Y_influential_Y(\n",
    "#     influential_Y, tag=len(parameter_choice), save_fig=False, bin_min=bin_min, bin_max=bin_max\n",
    "# )\n",
    "# filepath_influential_Y = (\n",
    "#     write_dir / \"arrays\" / validation.create_influential_model_output_filepath(tag)\n",
    "# )"
   ]
  },
  {
   "cell_type": "code",
   "execution_count": null,
   "metadata": {},
   "outputs": [],
   "source": [
    "# 4. After regression, 60 parameters\n",
    "model_seed = 3333\n",
    "path_model_dir = write_dir / \"regression\" / \"{}_model\".format(model_seed)\n",
    "model, params_yes_xgboost, importance_dict = get_xgboost_params(path_model_dir, params_yes_0)\n",
    "\n",
    "num_influential = 60\n",
    "params_yes_inf = params_yes_xgboost[:num_influential]\n",
    "params_yes_inf_where = np.array([np.where(params_yes_0==p)[0][0] for p in params_yes_inf])\n",
    "\n",
    "parameter_choice = params_yes_inf_where\n",
    "influential_Y = validation.get_influential_Y_from_parameter_choice(parameter_choice)\n",
    "\n",
    "validation.plot_histogram_base_Y_influential_Y(\n",
    "    influential_Y, tag=len(parameter_choice), save_fig=False, bin_min=bin_min, bin_max=bin_max\n",
    ")"
   ]
  },
  {
   "cell_type": "code",
   "execution_count": null,
   "metadata": {},
   "outputs": [],
   "source": []
  },
  {
   "cell_type": "code",
   "execution_count": null,
   "metadata": {},
   "outputs": [],
   "source": [
    "importance_dict"
   ]
  },
  {
   "cell_type": "code",
   "execution_count": null,
   "metadata": {},
   "outputs": [],
   "source": []
  },
  {
   "cell_type": "code",
   "execution_count": null,
   "metadata": {},
   "outputs": [],
   "source": []
  },
  {
   "cell_type": "code",
   "execution_count": null,
   "metadata": {},
   "outputs": [],
   "source": []
  },
  {
   "cell_type": "code",
   "execution_count": null,
   "metadata": {},
   "outputs": [],
   "source": []
  },
  {
   "cell_type": "markdown",
   "metadata": {},
   "source": [
    "# Computation of adjusted scores"
   ]
  },
  {
   "cell_type": "code",
   "execution_count": null,
   "metadata": {},
   "outputs": [],
   "source": [
    "import brightway2 as bw\n",
    "from pathlib import Path\n",
    "from gsa_framework import LCAModel\n",
    "from gsa_framework.validation import Validation\n",
    "from gsa_framework.utils_setac_lca import *\n",
    "from gsa_framework.utils import read_hdf5_array"
   ]
  },
  {
   "cell_type": "code",
   "execution_count": null,
   "metadata": {},
   "outputs": [],
   "source": [
    "path_base = Path('/data/user/kim_a/setac_gsa')\n",
    "path_merlin = path_base / \"merlin\"\n",
    "filepath_scores_lsa_dict = path_merlin / \"scores_lsa_dict.pickle\"\n",
    "filepath_params_yes_0 = path_merlin / \"params_yes_0.pickle\"\n",
    "filepath_params_yes_6 = path_merlin / \"params_yes_6.pickle\"\n",
    "\n",
    "with open(filepath_scores_lsa_dict, 'rb') as f:\n",
    "    scores_lsa_dict = pickle.load(f)\n",
    "    \n",
    "with open(filepath_params_yes_0, 'rb') as f:\n",
    "    params_yes_0 = pickle.load(f)\n",
    "    \n",
    "with open(filepath_params_yes_6, 'rb') as f:\n",
    "    params_yes_6 = pickle.load(f)"
   ]
  },
  {
   "cell_type": "code",
   "execution_count": null,
   "metadata": {},
   "outputs": [],
   "source": [
    "model_seed = 3333\n",
    "path_model_dir = path_base / \"regression\" / \"{}_model\".format(model_seed)\n",
    "model, params_yes_xgboost, _ = get_xgboost_params(path_model_dir, params_yes_0)"
   ]
  },
  {
   "cell_type": "code",
   "execution_count": null,
   "metadata": {},
   "outputs": [],
   "source": [
    "bw.projects.set_current(\"GSA for setac\")\n",
    "co = bw.Database(\"CH consumption 1.0\")\n",
    "demand_act = [act for act in co if \"Food\" in act[\"name\"]][0]\n",
    "demand = {demand_act: 1}\n",
    "method = (\"IPCC 2013\", \"climate change\", \"GTP 100a\")\n",
    "lca = bw.LCA(demand, method)\n",
    "lca.lci()\n",
    "lca.lcia()\n",
    "print(lca.score)"
   ]
  },
  {
   "cell_type": "code",
   "execution_count": null,
   "metadata": {},
   "outputs": [],
   "source": [
    "params_yes_shift = params_yes_0\n",
    "\n",
    "uncertain_tech_params_yes = lca.tech_params[params_yes_shift]\n",
    "amounts_mean = get_amounts_shift(uncertain_tech_params_yes, shift_median=False)\n",
    "score_mean_base = get_score_shift(amounts_mean, params_yes_shift, lca)\n",
    "score_mean_base"
   ]
  },
  {
   "cell_type": "code",
   "execution_count": null,
   "metadata": {},
   "outputs": [],
   "source": [
    "params_yes_inf = params_yes_xgboost[:12]\n",
    "num_influential = len(params_yes_inf)\n",
    "params_yes_shift1 = np.setdiff1d(params_yes_0, params_yes_inf)\n",
    "uncertain_tech_params_yes1 = lca.tech_params[params_yes_shift1]\n",
    "amounts_mean1 = get_amounts_shift(uncertain_tech_params_yes1, shift_median=False)\n",
    "score_aaa1 = get_score_shift(amounts_mean1, params_yes_shift1, lca)\n",
    "\n",
    "params_yes_shift2 = params_yes_xgboost[:12]\n",
    "uncertain_tech_params_yes2 = lca.tech_params[params_yes_shift2]\n",
    "amounts_mean2 = get_amounts_shift(uncertain_tech_params_yes2, shift_median=False)\n",
    "score_aaa2 = get_score_shift(amounts_mean2, params_yes_shift2, lca)\n",
    "\n",
    "amounts_mean = np.hstack([amounts_mean1, amounts_mean2])\n",
    "params_yes_shift = np.hstack([params_yes_shift1, params_yes_shift2])\n",
    "\n",
    "score_aaa = get_score_shift(amounts_mean, params_yes_shift, lca)\n",
    "score_aaa1, score_aaa2, score_aaa"
   ]
  },
  {
   "cell_type": "code",
   "execution_count": null,
   "metadata": {},
   "outputs": [],
   "source": [
    "score_aaa1 - score_aaa2"
   ]
  },
  {
   "cell_type": "code",
   "execution_count": null,
   "metadata": {},
   "outputs": [],
   "source": []
  },
  {
   "cell_type": "code",
   "execution_count": null,
   "metadata": {},
   "outputs": [],
   "source": []
  },
  {
   "cell_type": "code",
   "execution_count": null,
   "metadata": {},
   "outputs": [],
   "source": []
  },
  {
   "cell_type": "code",
   "execution_count": null,
   "metadata": {},
   "outputs": [],
   "source": [
    "params_yes_inf = params_yes_xgboost[:36]\n",
    "num_influential = len(params_yes_inf)\n",
    "params_yes_shift = np.setdiff1d(params_yes_0, params_yes_inf)\n",
    "uncertain_tech_params_yes = lca.tech_params[params_yes_shift]\n",
    "amounts_mean = get_amounts_shift(uncertain_tech_params_yes, shift_median=False)\n",
    "score_mean_36 = get_score_shift(amounts_mean, params_yes_shift, lca)\n",
    "score_mean_36"
   ]
  },
  {
   "cell_type": "code",
   "execution_count": null,
   "metadata": {},
   "outputs": [],
   "source": [
    "params_yes_inf = params_yes_xgboost[:12]\n",
    "num_influential = len(params_yes_inf)\n",
    "params_yes_shift = np.setdiff1d(params_yes_0, params_yes_inf)\n",
    "uncertain_tech_params_yes = lca.tech_params[params_yes_shift]\n",
    "amounts_mean = get_amounts_shift(uncertain_tech_params_yes, shift_median=False)\n",
    "score_mean_12 = get_score_shift(amounts_mean, params_yes_shift, lca)\n",
    "score_mean_12"
   ]
  },
  {
   "cell_type": "code",
   "execution_count": null,
   "metadata": {},
   "outputs": [],
   "source": [
    "diff_mean = {\n",
    "    34191: -0.06663386251557313,\n",
    "    60: -115.68080082127426,\n",
    "    \"narrow.12\": score_mean_12 - score_mean_base,\n",
    "    \"narrow.36\": score_mean_36 - score_mean_base,\n",
    "    \"narrow.60\": score_mean_60 - score_mean_base,\n",
    "}"
   ]
  },
  {
   "cell_type": "code",
   "execution_count": null,
   "metadata": {},
   "outputs": [],
   "source": [
    "diff_mean\n"
   ]
  },
  {
   "cell_type": "code",
   "execution_count": null,
   "metadata": {},
   "outputs": [],
   "source": [
    "uncertain_tech_params_yes = lca.tech_params[params_yes_shift]\n",
    "amounts_median = get_amounts_shift(uncertain_tech_params_yes, shift_median=True)\n",
    "amounts_mean = get_amounts_shift(uncertain_tech_params_yes, shift_median=False)\n",
    "\n",
    "amounts_mean_median = np.hstack([amounts_mean[:num_influential], amounts_median[num_influential:]])\n",
    "amounts_median_mean = np.hstack([amounts_median[:num_influential], amounts_mean[num_influential:]])\n",
    "\n",
    "\n",
    "score_median = get_score_shift(amounts_median, params_yes_shift, lca)\n",
    "score_mean = get_score_shift(amounts_mean, params_yes_shift, lca)\n",
    "score_mean_median = get_score_shift(amounts_mean_median, params_yes_shift, lca)\n",
    "score_median_mean = get_score_shift(amounts_median_mean, params_yes_shift, lca)\n",
    "\n",
    "score_median, score_mean, score_mean_median, score_median_mean"
   ]
  },
  {
   "cell_type": "code",
   "execution_count": null,
   "metadata": {},
   "outputs": [],
   "source": [
    "diff_median = lca.score - score_median\n",
    "diff_mean = lca.score - score_mean\n",
    "\n",
    "diff_median, diff_mean"
   ]
  },
  {
   "cell_type": "code",
   "execution_count": null,
   "metadata": {},
   "outputs": [],
   "source": [
    "score_mean - score_median"
   ]
  },
  {
   "cell_type": "code",
   "execution_count": null,
   "metadata": {},
   "outputs": [],
   "source": [
    "2679-score_mean"
   ]
  },
  {
   "cell_type": "code",
   "execution_count": null,
   "metadata": {},
   "outputs": [],
   "source": []
  },
  {
   "cell_type": "code",
   "execution_count": null,
   "metadata": {},
   "outputs": [],
   "source": []
  },
  {
   "cell_type": "code",
   "execution_count": null,
   "metadata": {},
   "outputs": [],
   "source": []
  },
  {
   "cell_type": "code",
   "execution_count": null,
   "metadata": {},
   "outputs": [],
   "source": []
  },
  {
   "cell_type": "code",
   "execution_count": null,
   "metadata": {},
   "outputs": [],
   "source": []
  },
  {
   "cell_type": "code",
   "execution_count": null,
   "metadata": {},
   "outputs": [],
   "source": []
  }
 ],
 "metadata": {
  "kernelspec": {
   "display_name": "Python [conda env:bw]",
   "language": "python",
   "name": "conda-env-bw-py"
  },
  "language_info": {
   "codemirror_mode": {
    "name": "ipython",
    "version": 3
   },
   "file_extension": ".py",
   "mimetype": "text/x-python",
   "name": "python",
   "nbconvert_exporter": "python",
   "pygments_lexer": "ipython3",
   "version": "3.7.6"
  },
  "varInspector": {
   "cols": {
    "lenName": 16,
    "lenType": 16,
    "lenVar": 40
   },
   "kernels_config": {
    "python": {
     "delete_cmd_postfix": "",
     "delete_cmd_prefix": "del ",
     "library": "var_list.py",
     "varRefreshCmd": "print(var_dic_list())"
    },
    "r": {
     "delete_cmd_postfix": ") ",
     "delete_cmd_prefix": "rm(",
     "library": "var_list.r",
     "varRefreshCmd": "cat(var_dic_list()) "
    }
   },
   "types_to_exclude": [
    "module",
    "function",
    "builtin_function_or_method",
    "instance",
    "_Feature"
   ],
   "window_display": false
  }
 },
 "nbformat": 4,
 "nbformat_minor": 4
}
