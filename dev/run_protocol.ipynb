{
 "cells": [
  {
   "cell_type": "code",
   "execution_count": 1,
   "metadata": {},
   "outputs": [],
   "source": [
    "import bw2data as bd\n",
    "import bw2calc as bc\n",
    "from pathlib import Path\n",
    "\n",
    "from gsa_framework.models import LCAModel"
   ]
  },
  {
   "cell_type": "code",
   "execution_count": 2,
   "metadata": {},
   "outputs": [],
   "source": [
    "def setup_lca_model_protocol(\n",
    "    path_base, num_params=None, write_dir=None, flag_generate_scores_dict=False\n",
    "):\n",
    "    # LCA model\n",
    "    bd.projects.set_current(\"GSA for protocol\")\n",
    "    co = bd.Database(\"CH consumption 1.0\")\n",
    "    demand_act = [act for act in co if \"Food\" in act[\"name\"]]\n",
    "    assert len(demand_act) == 1\n",
    "    demand_act = demand_act[0]\n",
    "    demand = {demand_act: 1}\n",
    "    method = (\"IPCC 2013\", \"climate change\", \"GWP 100a\", \"uncertain\")\n",
    "    # num_params\n",
    "    if num_params is None:\n",
    "        lca = bc.LCA(demand, method)\n",
    "        lca.lci()\n",
    "        lca.lcia()\n",
    "        print(\"LCA score is {}\".format(lca.score))\n",
    "        n_uncertain_tech = len(lca.tech_params[lca.tech_params[\"uncertainty_type\"] > 1])\n",
    "        n_uncertain_bio = len(lca.bio_params[lca.bio_params[\"uncertainty_type\"] > 1])\n",
    "        n_uncertain_cf = len(lca.cf_params[lca.cf_params[\"uncertainty_type\"] > 1])\n",
    "        num_params = n_uncertain_tech + n_uncertain_bio + n_uncertain_cf\n",
    "        print(\"Total number of uncertain exchanges is {}\".format(num_params))\n",
    "        print(\"   tech={}, bio={}, cf={}\".format(n_uncertain_tech, n_uncertain_bio, n_uncertain_cf))\n",
    "    # Define some variables\n",
    "    if write_dir is None:\n",
    "        write_dir = Path('/data/user/kim_a/protocol_gsa')\n",
    "    if flag_generate_scores_dict:\n",
    "        model = LCAModel(demand, method, write_dir)  # generate scores_dict\n",
    "        del model\n",
    "    model = LCAModel(demand, method, write_dir, num_params=num_params)\n",
    "    gsa_seed = 4000238\n",
    "    return model, write_dir, gsa_seed"
   ]
  },
  {
   "cell_type": "code",
   "execution_count": 3,
   "metadata": {},
   "outputs": [
    {
     "name": "stdout",
     "output_type": "stream",
     "text": [
      "LCA score is 211.57670115973556\n",
      "Total number of uncertain exchanges is 408722\n",
      "   tech=186602, bio=222049, cf=71\n"
     ]
    },
    {
     "ename": "AttributeError",
     "evalue": "'LCAModel' object has no attribute 'uncertain_params'",
     "output_type": "error",
     "traceback": [
      "\u001b[0;31m---------------------------------------------------------------------------\u001b[0m",
      "\u001b[0;31mAttributeError\u001b[0m                            Traceback (most recent call last)",
      "\u001b[0;32m<ipython-input-3-02c86cbea25d>\u001b[0m in \u001b[0;36m<module>\u001b[0;34m\u001b[0m\n\u001b[1;32m      2\u001b[0m \u001b[0mnum_params\u001b[0m \u001b[0;34m=\u001b[0m \u001b[0;36m10000\u001b[0m\u001b[0;34m\u001b[0m\u001b[0;34m\u001b[0m\u001b[0m\n\u001b[1;32m      3\u001b[0m \u001b[0mflag_generate_scores_dict\u001b[0m \u001b[0;34m=\u001b[0m \u001b[0;32mTrue\u001b[0m\u001b[0;34m\u001b[0m\u001b[0;34m\u001b[0m\u001b[0m\n\u001b[0;32m----> 4\u001b[0;31m model, write_dir, gsa_seed = setup_lca_model_protocol(\n\u001b[0m\u001b[1;32m      5\u001b[0m     \u001b[0mpath_base\u001b[0m\u001b[0;34m,\u001b[0m \u001b[0mnum_params\u001b[0m\u001b[0;34m=\u001b[0m\u001b[0;32mNone\u001b[0m\u001b[0;34m,\u001b[0m \u001b[0mwrite_dir\u001b[0m\u001b[0;34m=\u001b[0m\u001b[0;32mNone\u001b[0m\u001b[0;34m,\u001b[0m \u001b[0mflag_generate_scores_dict\u001b[0m\u001b[0;34m=\u001b[0m\u001b[0mflag_generate_scores_dict\u001b[0m\u001b[0;34m\u001b[0m\u001b[0;34m\u001b[0m\u001b[0m\n\u001b[1;32m      6\u001b[0m )\n",
      "\u001b[0;32m<ipython-input-2-513ea88fa2d5>\u001b[0m in \u001b[0;36msetup_lca_model_protocol\u001b[0;34m(path_base, num_params, write_dir, flag_generate_scores_dict)\u001b[0m\n\u001b[1;32m     26\u001b[0m         \u001b[0mwrite_dir\u001b[0m \u001b[0;34m=\u001b[0m \u001b[0mPath\u001b[0m\u001b[0;34m(\u001b[0m\u001b[0;34m'/data/user/kim_a/protocol_gsa'\u001b[0m\u001b[0;34m)\u001b[0m\u001b[0;34m\u001b[0m\u001b[0;34m\u001b[0m\u001b[0m\n\u001b[1;32m     27\u001b[0m     \u001b[0;32mif\u001b[0m \u001b[0mflag_generate_scores_dict\u001b[0m\u001b[0;34m:\u001b[0m\u001b[0;34m\u001b[0m\u001b[0;34m\u001b[0m\u001b[0m\n\u001b[0;32m---> 28\u001b[0;31m         \u001b[0mmodel\u001b[0m \u001b[0;34m=\u001b[0m \u001b[0mLCAModel\u001b[0m\u001b[0;34m(\u001b[0m\u001b[0mdemand\u001b[0m\u001b[0;34m,\u001b[0m \u001b[0mmethod\u001b[0m\u001b[0;34m,\u001b[0m \u001b[0mwrite_dir\u001b[0m\u001b[0;34m)\u001b[0m  \u001b[0;31m# generate scores_dict\u001b[0m\u001b[0;34m\u001b[0m\u001b[0;34m\u001b[0m\u001b[0m\n\u001b[0m\u001b[1;32m     29\u001b[0m         \u001b[0;32mdel\u001b[0m \u001b[0mmodel\u001b[0m\u001b[0;34m\u001b[0m\u001b[0;34m\u001b[0m\u001b[0m\n\u001b[1;32m     30\u001b[0m     \u001b[0mmodel\u001b[0m \u001b[0;34m=\u001b[0m \u001b[0mLCAModel\u001b[0m\u001b[0;34m(\u001b[0m\u001b[0mdemand\u001b[0m\u001b[0;34m,\u001b[0m \u001b[0mmethod\u001b[0m\u001b[0;34m,\u001b[0m \u001b[0mwrite_dir\u001b[0m\u001b[0;34m,\u001b[0m \u001b[0mnum_params\u001b[0m\u001b[0;34m=\u001b[0m\u001b[0mnum_params\u001b[0m\u001b[0;34m)\u001b[0m\u001b[0;34m\u001b[0m\u001b[0;34m\u001b[0m\u001b[0m\n",
      "\u001b[0;32m~/gsa_framework/gsa_framework/models/life_cycle_assessment.py\u001b[0m in \u001b[0;36m__init__\u001b[0;34m(self, func_unit, method, write_dir, num_params, lca)\u001b[0m\n\u001b[1;32m     94\u001b[0m \u001b[0;34m\u001b[0m\u001b[0m\n\u001b[1;32m     95\u001b[0m         self.default_uncertain_amounts = get_amounts_shift(\n\u001b[0;32m---> 96\u001b[0;31m             \u001b[0mself\u001b[0m\u001b[0;34m.\u001b[0m\u001b[0muncertain_params\u001b[0m\u001b[0;34m,\u001b[0m \u001b[0mshift_median\u001b[0m\u001b[0;34m=\u001b[0m\u001b[0;32mFalse\u001b[0m\u001b[0;34m\u001b[0m\u001b[0;34m\u001b[0m\u001b[0m\n\u001b[0m\u001b[1;32m     97\u001b[0m         )\n\u001b[1;32m     98\u001b[0m         self.static_output = get_lca_score_shift(\n",
      "\u001b[0;31mAttributeError\u001b[0m: 'LCAModel' object has no attribute 'uncertain_params'"
     ]
    }
   ],
   "source": [
    "path_base = Path('/data/user/kim_a/protocol_gsa')\n",
    "num_params = 10000\n",
    "flag_generate_scores_dict = True\n",
    "model, write_dir, gsa_seed = setup_lca_model_protocol(\n",
    "    path_base, num_params=None, write_dir=None, flag_generate_scores_dict=flag_generate_scores_dict\n",
    ")"
   ]
  },
  {
   "cell_type": "code",
   "execution_count": null,
   "metadata": {},
   "outputs": [],
   "source": []
  },
  {
   "cell_type": "code",
   "execution_count": null,
   "metadata": {},
   "outputs": [],
   "source": []
  }
 ],
 "metadata": {
  "kernelspec": {
   "display_name": "Python [conda env:protocol-dev-py38]",
   "language": "python",
   "name": "conda-env-protocol-dev-py38-py"
  },
  "language_info": {
   "codemirror_mode": {
    "name": "ipython",
    "version": 3
   },
   "file_extension": ".py",
   "mimetype": "text/x-python",
   "name": "python",
   "nbconvert_exporter": "python",
   "pygments_lexer": "ipython3",
   "version": "3.8.0"
  }
 },
 "nbformat": 4,
 "nbformat_minor": 2
}
