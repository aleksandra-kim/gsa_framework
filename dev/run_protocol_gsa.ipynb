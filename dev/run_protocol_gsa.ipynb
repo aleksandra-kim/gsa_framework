{
 "cells": [
  {
   "cell_type": "code",
   "execution_count": null,
   "metadata": {},
   "outputs": [],
   "source": [
    "import bw2data as bd\n",
    "import bw2calc as bc\n",
    "import numpy as np\n",
    "from copy import deepcopy\n",
    "from pathlib import Path\n",
    "from gsa_framework.models.life_cycle_assessment import LCAModelBase\n",
    "from gsa_framework.sensitivity_analysis.correlations import Correlations\n",
    "from gsa_framework.sensitivity_analysis.saltelli_sobol import SaltelliSobol\n",
    "from gsa_framework.utils import read_pickle, write_hdf5_array\n",
    "from setups_paper_gwp import setup_corr, setup_lca_model_protocol\n",
    "# from gsa_framework.utils import read_hdf5_array, write_hdf5_array\n",
    "# from gsa_framework.visualization.plotting import plot_correlation_Y1_Y2, plot_histogram_Y1_Y2"
   ]
  },
  {
   "cell_type": "code",
   "execution_count": null,
   "metadata": {},
   "outputs": [],
   "source": [
    "path_base = Path('/data/user/kim_a')\n",
    "\n",
    "# LCA model\n",
    "bd.projects.set_current(\"GSA for protocol\")\n",
    "co = bd.Database(\"CH consumption 1.0\")\n",
    "demand_act = [act for act in co if \"Food\" in act[\"name\"]]\n",
    "assert len(demand_act) == 1\n",
    "demand_act = demand_act[0]\n",
    "demand = {demand_act: 1}\n",
    "method = (\"IPCC 2013\", \"climate change\", \"GWP 100a\", \"uncertain\")\n",
    "\n",
    "num_params = 20000\n",
    "iter_corr = 4*num_params\n",
    "gsa_corr = setup_corr(num_params, iter_corr, setup_lca_model_protocol, path_base)\n",
    "S = gsa_corr.perform_gsa()\n",
    "spearman = S['spearman']\n",
    "inf_sorted = np.argsort(np.abs(spearman))[::-1]\n",
    "\n",
    "model, write_dir, gsa_seed = setup_lca_model_protocol(\n",
    "    path_base,\n",
    "    num_params=None,\n",
    "    write_dir=None,\n",
    ")\n",
    "\n",
    "path_lsa = model.write_dir / \"LSA_scores\"\n",
    "path_lsa_include_inds_bio = path_lsa / \"include_inds_bio.pickle\"\n",
    "include_inds_bio = read_pickle(path_lsa_include_inds_bio)\n",
    "path_lsa_include_inds_cf = path_lsa / \"include_inds_cf.pickle\"\n",
    "include_inds_cf = read_pickle(path_lsa_include_inds_cf)\n",
    "\n",
    "include_inds_tech_forX = np.arange(model.uncertain_exchange_lengths['tech'])\n",
    "include_inds_bio_forX  = model.uncertain_exchange_lengths['tech'] + include_inds_bio\n",
    "include_inds_cf_forX   = model.uncertain_exchange_lengths['tech'] + \\\n",
    "                         model.uncertain_exchange_lengths['bio']  + include_inds_cf\n",
    "parameter_choice_rm_noninf = np.hstack(\n",
    "    [include_inds_tech_forX, include_inds_bio_forX, include_inds_cf_forX]\n",
    ")\n",
    "\n",
    "scores_dict = model.get_lsa_scores_pickle(model.write_dir / \"LSA_scores\", model.uncertain_exchanges_types)\n",
    "num_params_lsa = 20000 #10000\n",
    "where_high_var = model.get_where_high_var(scores_dict, num_params_lsa)\n",
    "parameter_choice_rm_lowinf = parameter_choice_rm_noninf[where_high_var]\n",
    "\n",
    "num_params_ranking = 200\n",
    "gsa_seed_ranking = 555666\n",
    "iterations_ranking = num_params_ranking * 400\n",
    "parameter_choice_inf = parameter_choice_rm_lowinf[inf_sorted[:num_params_ranking]]\n",
    "parameter_choice_inf = np.sort(parameter_choice_inf)"
   ]
  },
  {
   "cell_type": "code",
   "execution_count": null,
   "metadata": {},
   "outputs": [],
   "source": [
    "len(parameter_choice_inf)"
   ]
  },
  {
   "cell_type": "markdown",
   "metadata": {},
   "source": [
    "# Graph traversal screening"
   ]
  },
  {
   "cell_type": "code",
   "execution_count": null,
   "metadata": {},
   "outputs": [],
   "source": [
    "import numpy as np\n",
    "import bw2data as bd\n",
    "import bw2calc as bc\n",
    "\n",
    "from dev.utils_graph_traversal import \\\n",
    "    filter_uncertain_technosphere_exchanges, \\\n",
    "    filter_uncertain_biosphere_exchanges, \\\n",
    "    filter_uncertain_characterization_exchanges, \\\n",
    "    collect_uncertain_exchanges\n",
    "\n",
    "\n",
    "num_params = 200\n",
    "\n",
    "bd.projects.set_current(\"GSA for protocol\")\n",
    "co = bd.Database(\"CH consumption 1.0\")\n",
    "demand_act = [act for act in co if \"Food\" in act[\"name\"]]\n",
    "assert len(demand_act) == 1\n",
    "demand_act = demand_act[0]\n",
    "demand = {demand_act: 1}\n",
    "method = (\"IPCC 2013\", \"climate change\", \"GWP 100a\", \"uncertain\")\n",
    "lca = bc.LCA(demand, method)\n",
    "lca.lci()\n",
    "lca.lcia()\n",
    "\n",
    "cutoff = 0.007 # percentage of the total score, cutoff=0.005 means 0.5 percent\n",
    "score_cutoff = cutoff*lca.score\n",
    "\n",
    "# tech_inds = filter_technosphere_exchanges(lca, cutoff)\n",
    "tech_inds_uncertain = filter_uncertain_technosphere_exchanges(lca, cutoff)\n",
    "# bio_inds  = filter_biosphere_exchanges(lca, cutoff)\n",
    "bio_inds_uncertain = filter_uncertain_biosphere_exchanges(lca, cutoff)\n",
    "# ch_inds = filter_characterization_exchanges(lca, cutoff)\n",
    "cf_inds_uncertain = filter_uncertain_characterization_exchanges(lca, cutoff)\n",
    "\n",
    "exchanges_dict = {\n",
    "    'tech': tech_inds_uncertain,\n",
    "    'bio': bio_inds_uncertain,\n",
    "    'cf': cf_inds_uncertain,\n",
    "}\n",
    "\n",
    "subset_exchanges_dict = collect_uncertain_exchanges(exchanges_dict, num_params)\n",
    "\n",
    "row_ind = 0\n",
    "col_ind = 1\n",
    "parameter_choice_dict = {}\n",
    "for uncertain_exchange_type, exc_list in subset_exchanges_dict.items():\n",
    "    params = model.uncertain_params[uncertain_exchange_type]\n",
    "    where_list = []\n",
    "    if uncertain_exchange_type != 'cf':\n",
    "        for exc in exc_list:\n",
    "            where = np.where(np.logical_and(\n",
    "                params['row'] == exc[row_ind],\n",
    "                params['col'] == exc[col_ind],\n",
    "            ))[0]\n",
    "            assert len(where)==1\n",
    "            where_list.append(where[0])\n",
    "    else:\n",
    "        for exc in exc_list:\n",
    "            where = np.where(params['row'] == exc[row_ind])[0]\n",
    "            assert len(where) == 1\n",
    "            where_list.append(where[0])\n",
    "    where_list = sorted(where_list)\n",
    "    parameter_choice_dict[uncertain_exchange_type] = where_list"
   ]
  },
  {
   "cell_type": "code",
   "execution_count": null,
   "metadata": {},
   "outputs": [],
   "source": [
    "parameter_choice_inf_tech = parameter_choice_dict['tech']\n",
    "parameter_choice_inf_bio  = parameter_choice_dict['bio'] + model.uncertain_exchange_lengths['tech']\n",
    "parameter_choice_inf_cf   = parameter_choice_dict['cf'] + model.uncertain_exchange_lengths['tech'] + model.uncertain_exchange_lengths['bio']\n",
    "\n",
    "parameter_choice_inf_graph = parameter_choice_inf_tech + parameter_choice_inf_bio + parameter_choice_inf_cf"
   ]
  },
  {
   "cell_type": "markdown",
   "metadata": {},
   "source": [
    "# Compare our screening with graph traversal"
   ]
  },
  {
   "cell_type": "code",
   "execution_count": null,
   "metadata": {},
   "outputs": [],
   "source": [
    "parameter_choice_inf, parameter_choice_inf_graph"
   ]
  },
  {
   "cell_type": "markdown",
   "metadata": {},
   "source": [
    "# GSA for prioritized list"
   ]
  },
  {
   "cell_type": "code",
   "execution_count": null,
   "metadata": {},
   "outputs": [],
   "source": [
    "parameter_choice_inf_tech = parameter_choice_inf[\n",
    "    parameter_choice_inf < model.uncertain_exchange_lengths['tech']\n",
    "]\n",
    "tech_inds = parameter_choice_inf_tech\n",
    "tech_params = model.uncertain_params['tech'][tech_inds]\n",
    "tech_where = model.uncertain_params_selected_where_dict['tech'][tech_inds]\n",
    "\n",
    "parameter_choice_inf_bio = parameter_choice_inf[\n",
    "    np.logical_and(\n",
    "        parameter_choice_inf >= model.uncertain_exchange_lengths['tech'],\n",
    "        parameter_choice_inf < model.uncertain_exchange_lengths['bio']+model.uncertain_exchange_lengths['tech'],\n",
    "    )  \n",
    "]\n",
    "bio_inds = parameter_choice_inf_bio-model.uncertain_exchange_lengths['tech']\n",
    "bio_params = model.uncertain_params['bio'][bio_inds]\n",
    "bio_where = model.uncertain_params_selected_where_dict['bio'][bio_inds]\n",
    "\n",
    "parameter_choice_inf_cf = parameter_choice_inf[\n",
    "    parameter_choice_inf >= model.uncertain_exchange_lengths['bio']+model.uncertain_exchange_lengths['tech'],\n",
    "]\n",
    "cf_inds = parameter_choice_inf_cf-model.uncertain_exchange_lengths['tech']-model.uncertain_exchange_lengths['bio']\n",
    "cf_params = model.uncertain_params['cf'][cf_inds]\n",
    "cf_where = model.uncertain_params_selected_where_dict['cf'][cf_inds]\n",
    "\n",
    "uncertain_params = {\n",
    "    'tech': tech_params,\n",
    "    'bio': bio_params,\n",
    "    'cf': cf_params,\n",
    "}\n",
    "uncertain_params_selected_where_dict = {\n",
    "    'tech': tech_where,\n",
    "    'bio': bio_where,\n",
    "    'cf': cf_where,    \n",
    "}"
   ]
  },
  {
   "cell_type": "code",
   "execution_count": null,
   "metadata": {},
   "outputs": [],
   "source": [
    "if __name__ == \"__main__\":    \n",
    "    model_ranking = LCAModelBase(\n",
    "        demand, \n",
    "        method, \n",
    "        uncertain_params, \n",
    "        uncertain_params_selected_where_dict,\n",
    "    )\n",
    "    gsa = SaltelliSobol(iterations=iterations_ranking, model=model_ranking, write_dir=write_dir)\n",
    "#     S_salt = gsa.perform_gsa()\n",
    "#     fig = gsa.plot_sa_results(S_salt)"
   ]
  },
  {
   "cell_type": "code",
   "execution_count": null,
   "metadata": {},
   "outputs": [],
   "source": [
    "iterations_ranking, gsa.filepath_Y"
   ]
  },
  {
   "cell_type": "code",
   "execution_count": null,
   "metadata": {},
   "outputs": [],
   "source": [
    "%%time\n",
    "X = gsa.generate_unitcube_samples(iterations_ranking)\n",
    "Xr = model_ranking.rescale(X)\n",
    "Y = model_ranking(Xr)\n",
    "write_hdf5_array(Y, gsa.filepath_Y)"
   ]
  },
  {
   "cell_type": "code",
   "execution_count": null,
   "metadata": {},
   "outputs": [],
   "source": []
  },
  {
   "cell_type": "code",
   "execution_count": null,
   "metadata": {},
   "outputs": [],
   "source": []
  },
  {
   "cell_type": "code",
   "execution_count": null,
   "metadata": {},
   "outputs": [],
   "source": []
  },
  {
   "cell_type": "code",
   "execution_count": null,
   "metadata": {},
   "outputs": [],
   "source": []
  },
  {
   "cell_type": "code",
   "execution_count": null,
   "metadata": {},
   "outputs": [],
   "source": []
  },
  {
   "cell_type": "code",
   "execution_count": null,
   "metadata": {},
   "outputs": [],
   "source": []
  },
  {
   "cell_type": "code",
   "execution_count": null,
   "metadata": {},
   "outputs": [],
   "source": []
  },
  {
   "cell_type": "code",
   "execution_count": null,
   "metadata": {},
   "outputs": [],
   "source": []
  },
  {
   "cell_type": "code",
   "execution_count": null,
   "metadata": {},
   "outputs": [],
   "source": []
  },
  {
   "cell_type": "code",
   "execution_count": null,
   "metadata": {},
   "outputs": [],
   "source": []
  },
  {
   "cell_type": "code",
   "execution_count": null,
   "metadata": {},
   "outputs": [],
   "source": []
  },
  {
   "cell_type": "code",
   "execution_count": null,
   "metadata": {},
   "outputs": [],
   "source": []
  },
  {
   "cell_type": "code",
   "execution_count": null,
   "metadata": {},
   "outputs": [],
   "source": []
  },
  {
   "cell_type": "code",
   "execution_count": null,
   "metadata": {},
   "outputs": [],
   "source": []
  },
  {
   "cell_type": "code",
   "execution_count": null,
   "metadata": {},
   "outputs": [],
   "source": []
  },
  {
   "cell_type": "code",
   "execution_count": null,
   "metadata": {},
   "outputs": [],
   "source": []
  },
  {
   "cell_type": "code",
   "execution_count": null,
   "metadata": {},
   "outputs": [],
   "source": []
  },
  {
   "cell_type": "code",
   "execution_count": null,
   "metadata": {},
   "outputs": [],
   "source": []
  }
 ],
 "metadata": {
  "kernelspec": {
   "display_name": "Python [conda env:protocol-dev-py38]",
   "language": "python",
   "name": "conda-env-protocol-dev-py38-py"
  },
  "language_info": {
   "codemirror_mode": {
    "name": "ipython",
    "version": 3
   },
   "file_extension": ".py",
   "mimetype": "text/x-python",
   "name": "python",
   "nbconvert_exporter": "python",
   "pygments_lexer": "ipython3",
   "version": "3.8.0"
  }
 },
 "nbformat": 4,
 "nbformat_minor": 2
}
