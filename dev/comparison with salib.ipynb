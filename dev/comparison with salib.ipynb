{
 "cells": [
  {
   "cell_type": "code",
   "execution_count": null,
   "metadata": {},
   "outputs": [],
   "source": [
    "import SALib as sa\n",
    "from gsa_framework.sampling.get_samples import *\n",
    "import numpy as np\n",
    "import time\n",
    "import plotly.graph_objects as go\n",
    "from plotly.subplots import make_subplots\n"
   ]
  },
  {
   "cell_type": "markdown",
   "metadata": {},
   "source": [
    "# 1. Sampling"
   ]
  },
  {
   "cell_type": "code",
   "execution_count": null,
   "metadata": {},
   "outputs": [],
   "source": [
    "random_params = np.arange(100,1000,100)\n",
    "random_iters = np.arange(100,1000,100)\n",
    "const_iter = 100\n",
    "const_params = 100"
   ]
  },
  {
   "cell_type": "markdown",
   "metadata": {},
   "source": [
    "## 1.1. Random"
   ]
  },
  {
   "cell_type": "code",
   "execution_count": null,
   "metadata": {},
   "outputs": [],
   "source": [
    "%%time\n",
    "time_random_wrt_params = np.zeros(len(random_params))\n",
    "time_random_wrt_params[:] = np.nan\n",
    "for i,iparams in enumerate(random_params):\n",
    "    t0 = time.time()\n",
    "    x = np.random.rand(const_iter,iparams)\n",
    "    t1 = time.time()\n",
    "    time_random_wrt_params[i] = t1-t0"
   ]
  },
  {
   "cell_type": "code",
   "execution_count": null,
   "metadata": {},
   "outputs": [],
   "source": [
    "%%time\n",
    "time_random_wrt_iters = np.zeros(len(random_iters))\n",
    "time_random_wrt_iters[:] = np.nan\n",
    "for i,iters in enumerate(random_iters):\n",
    "    t0 = time.time()\n",
    "    x = np.random.rand(iters,const_params)\n",
    "    t1 = time.time()\n",
    "    time_random_wrt_iters[i] = t1-t0"
   ]
  },
  {
   "cell_type": "markdown",
   "metadata": {},
   "source": [
    "## 1.2. Sobol Saltelli"
   ]
  },
  {
   "cell_type": "code",
   "execution_count": null,
   "metadata": {},
   "outputs": [],
   "source": [
    "%%time\n",
    "saltelli_params = random_params+2\n",
    "time_saltelli_wrt_params = np.zeros(len(saltelli_params))\n",
    "time_saltelli_wrt_params[:] = np.nan\n",
    "for i,iparams in enumerate(saltelli_params):\n",
    "    t0 = time.time()\n",
    "    x = saltelli_samples(iparams+2, iparams, skip_samples=1000)\n",
    "    t1 = time.time()\n",
    "    time_saltelli_wrt_params[i] = t1-t0"
   ]
  },
  {
   "cell_type": "code",
   "execution_count": null,
   "metadata": {},
   "outputs": [],
   "source": [
    "%%time\n",
    "saltelli_iters_per_param = random_iters[1:] // (const_params+2)\n",
    "saltelli_iters = saltelli_iters_per_param*(const_params+2)\n",
    "time_saltelli_wrt_iters = np.zeros(len(saltelli_iters))\n",
    "time_saltelli_wrt_iters[:] = np.nan\n",
    "for i,iters in enumerate(saltelli_iters):\n",
    "    t0 = time.time()\n",
    "    x = saltelli_samples(iters, const_params, skip_samples=1000)\n",
    "    t1 = time.time()\n",
    "    time_saltelli_wrt_iters[i] = t1-t0"
   ]
  },
  {
   "cell_type": "code",
   "execution_count": null,
   "metadata": {},
   "outputs": [],
   "source": [
    "%%time\n",
    "from SALib.sample import saltelli\n",
    "time_salib_saltelli_wrt_params = np.zeros(len(saltelli_iters))\n",
    "time_salib_saltelli_wrt_params[:] = np.nan\n",
    "for i,iparams in enumerate(saltelli_params):\n",
    "    t0 = time.time()\n",
    "    problem = {\"num_vars\": iparams, \"bounds\": [[0, 1] * iparams]}\n",
    "    x = saltelli.sample(problem, iparams+2, calc_second_order=False)\n",
    "    t1 = time.time()\n",
    "    time_salib_saltelli_wrt_params[i] = t1-t0"
   ]
  },
  {
   "cell_type": "code",
   "execution_count": null,
   "metadata": {},
   "outputs": [],
   "source": []
  },
  {
   "cell_type": "code",
   "execution_count": null,
   "metadata": {},
   "outputs": [],
   "source": []
  },
  {
   "cell_type": "markdown",
   "metadata": {},
   "source": [
    "# Plotting"
   ]
  },
  {
   "cell_type": "code",
   "execution_count": null,
   "metadata": {},
   "outputs": [],
   "source": [
    "nrows = 2\n",
    "ncols = 2\n",
    "\n",
    "fig = make_subplots(\n",
    "    rows=nrows,\n",
    "    cols=ncols,\n",
    "    shared_xaxes=True,\n",
    "    shared_yaxes=False,\n",
    ")\n",
    "# Random wrt num_params\n",
    "fig.add_trace(\n",
    "    go.Scatter(\n",
    "        x=random_params,\n",
    "        y=time_random_wrt_params,\n",
    "        name=\"Random sampling wrt num_params\",\n",
    "        mode=\"lines+markers\",\n",
    "    ),\n",
    "    row=1,\n",
    "    col=1,\n",
    ")\n",
    "fig.update_yaxes(\n",
    "    title_text='Time, [s]',\n",
    "    row=1,\n",
    "    col=1,\n",
    ")\n",
    "# Random wrt iterations\n",
    "fig.add_trace(\n",
    "    go.Scatter(\n",
    "        x=random_iters,\n",
    "        y=time_random_wrt_iters,\n",
    "        name=\"Random sampling wrt iterations\",\n",
    "        mode=\"lines+markers\",\n",
    "    ),\n",
    "    row=1,\n",
    "    col=2,\n",
    ")\n",
    "fig.update_yaxes(\n",
    "    title_text='Time, [s]',\n",
    "    row=1,\n",
    "    col=2,\n",
    ")\n",
    "# Saltelli wrt num_params, min iterations = num_params+2\n",
    "fig.add_trace(\n",
    "    go.Scatter(\n",
    "        x=saltelli_params,\n",
    "        y=time_saltelli_wrt_params,\n",
    "        name=\"Saltelli sampling wrt num_params and iterations\",\n",
    "        mode=\"lines+markers\",\n",
    "    ),\n",
    "    row=2,\n",
    "    col=1,\n",
    ")\n",
    "fig.update_yaxes(\n",
    "    title_text='Time, [s]',\n",
    "    row=2,\n",
    "    col=1,\n",
    ")\n",
    "# Saltelli wrt iterations\n",
    "fig.add_trace(\n",
    "    go.Scatter(\n",
    "        x=saltelli_iters,\n",
    "        y=time_saltelli_wrt_iters,\n",
    "        name=\"Saltelli sampling wrt iterations\",\n",
    "        mode=\"lines+markers\",\n",
    "    ),\n",
    "    row=2,\n",
    "    col=2,\n",
    ")\n",
    "fig.update_yaxes(\n",
    "    title_text='Time, [s]',\n",
    "    row=2,\n",
    "    col=2,\n",
    ")\n",
    "\n",
    "\n",
    "\n",
    "\n",
    "\n",
    "\n",
    "fig.update_xaxes(\n",
    "    title_text='num_params',\n",
    "    row=nrows,\n",
    "    col=1\n",
    ")\n",
    "fig.update_xaxes(\n",
    "    title_text='iterations',\n",
    "    row=nrows,\n",
    "    col=2,\n",
    ")\n",
    "\n",
    "\n",
    "\n"
   ]
  },
  {
   "cell_type": "code",
   "execution_count": null,
   "metadata": {},
   "outputs": [],
   "source": []
  },
  {
   "cell_type": "code",
   "execution_count": null,
   "metadata": {},
   "outputs": [],
   "source": []
  },
  {
   "cell_type": "code",
   "execution_count": null,
   "metadata": {},
   "outputs": [],
   "source": []
  }
 ],
 "metadata": {
  "kernelspec": {
   "display_name": "Python 3",
   "language": "python",
   "name": "python3"
  },
  "language_info": {
   "codemirror_mode": {
    "name": "ipython",
    "version": 3
   },
   "file_extension": ".py",
   "mimetype": "text/x-python",
   "name": "python",
   "nbconvert_exporter": "python",
   "pygments_lexer": "ipython3",
   "version": "3.8.5"
  },
  "varInspector": {
   "cols": {
    "lenName": 16,
    "lenType": 16,
    "lenVar": 40
   },
   "kernels_config": {
    "python": {
     "delete_cmd_postfix": "",
     "delete_cmd_prefix": "del ",
     "library": "var_list.py",
     "varRefreshCmd": "print(var_dic_list())"
    },
    "r": {
     "delete_cmd_postfix": ") ",
     "delete_cmd_prefix": "rm(",
     "library": "var_list.r",
     "varRefreshCmd": "cat(var_dic_list()) "
    }
   },
   "types_to_exclude": [
    "module",
    "function",
    "builtin_function_or_method",
    "instance",
    "_Feature"
   ],
   "window_display": false
  }
 },
 "nbformat": 4,
 "nbformat_minor": 4
}
