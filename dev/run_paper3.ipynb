{
 "cells": [
  {
   "cell_type": "code",
   "execution_count": 1,
   "metadata": {},
   "outputs": [],
   "source": [
    "import numpy as np\n",
    "from pathlib import Path\n",
    "import bw2data as bd\n",
    "import bw2calc as bc\n",
    "from gsa_framework.utils import read_pickle, write_pickle\n",
    "from gsa_framework.models.life_cycle_assessment import LCAModel\n",
    "from dev.utils_graph_traversal import filter_uncertain_technosphere_exchanges\n"
   ]
  },
  {
   "cell_type": "code",
   "execution_count": 7,
   "metadata": {},
   "outputs": [
    {
     "name": "stdout",
     "output_type": "stream",
     "text": [
      "211.57670115973556\n",
      "TECHNOSPHERE (19353, 19353) filtering resulted in 97900 of 236414 UNCERTAIN exchanges and took 120311 iterations in 1057.82 seconds.\n"
     ]
    }
   ],
   "source": [
    "if __name__ == \"__main__\":\n",
    "\n",
    "#     path_base = Path(\n",
    "#         \"/Users/akim/PycharmProjects/gsa-framework-master/dev/write_files/\"\n",
    "#     )\n",
    "    path_base = Path('/data/user/kim_a/protocol_gsa')\n",
    "    write_dir = path_base \n",
    "    write_dir_sct = write_dir / \"supply_chain_paper3\"\n",
    "    write_dir_sct.mkdir(exist_ok=True,parents=True)\n",
    "\n",
    "    bd.projects.set_current(\"GSA for protocol\")\n",
    "    co = bd.Database(\"CH consumption 1.0\")\n",
    "    demand_act = [act for act in co if \"Food\" in act[\"name\"]]\n",
    "    assert len(demand_act) == 1\n",
    "    demand_act = demand_act[0]\n",
    "    demand = {demand_act: 1}\n",
    "    uncertain_method = (\"IPCC 2013\", \"climate change\", \"GWP 100a\", \"uncertain\")\n",
    "    lca = bc.LCA(demand, uncertain_method)\n",
    "    lca.lci()\n",
    "    lca.lcia()\n",
    "    print(lca.score)\n",
    "\n",
    "    cutoff = 1e-7\n",
    "    max_calc = 1e8\n",
    "    sct_tech_params_filename = \"tech_params_cutoff{}_maxcalc{}.pickle\".format(cutoff, int(max_calc))\n",
    "    sct_tech_params_filepath = write_dir_sct / sct_tech_params_filename\n",
    "    if not sct_tech_params_filepath.exists():\n",
    "        tech_params_sct = filter_uncertain_technosphere_exchanges(lca, cutoff=cutoff, max_calc=max_calc)\n",
    "        write_pickle(tech_params_sct, sct_tech_params_filepath)\n",
    "    else:\n",
    "        tech_params_sct = read_pickle(sct_tech_params_filepath)"
   ]
  },
  {
   "cell_type": "code",
   "execution_count": null,
   "metadata": {},
   "outputs": [],
   "source": []
  },
  {
   "cell_type": "code",
   "execution_count": null,
   "metadata": {},
   "outputs": [],
   "source": []
  },
  {
   "cell_type": "code",
   "execution_count": null,
   "metadata": {},
   "outputs": [],
   "source": []
  },
  {
   "cell_type": "code",
   "execution_count": null,
   "metadata": {},
   "outputs": [],
   "source": []
  },
  {
   "cell_type": "code",
   "execution_count": null,
   "metadata": {},
   "outputs": [],
   "source": []
  }
 ],
 "metadata": {
  "kernelspec": {
   "display_name": "Python [conda env:protocol-dev-py38]",
   "language": "python",
   "name": "conda-env-protocol-dev-py38-py"
  },
  "language_info": {
   "codemirror_mode": {
    "name": "ipython",
    "version": 3
   },
   "file_extension": ".py",
   "mimetype": "text/x-python",
   "name": "python",
   "nbconvert_exporter": "python",
   "pygments_lexer": "ipython3",
   "version": "3.8.0"
  }
 },
 "nbformat": 4,
 "nbformat_minor": 2
}
