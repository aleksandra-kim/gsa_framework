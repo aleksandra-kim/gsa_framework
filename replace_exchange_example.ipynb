{
 "cells": [
  {
   "cell_type": "code",
   "execution_count": 1,
   "metadata": {},
   "outputs": [],
   "source": [
    "import brightway2 as bw\n",
    "from copy import deepcopy"
   ]
  },
  {
   "cell_type": "code",
   "execution_count": 2,
   "metadata": {},
   "outputs": [],
   "source": [
    "bw.projects.set_current('ecoinvent 3.3 cutoff')"
   ]
  },
  {
   "cell_type": "code",
   "execution_count": 3,
   "metadata": {},
   "outputs": [],
   "source": [
    "# Choose any demand \n",
    "ei = bw.Database('ecoinvent 3.3 cutoff')\n",
    "demand_act = [act for act in ei if 'petroleum refinery operation' in act['name'] and 'CH' in act['location']\n",
    "and 'kilowatt hour' in act['unit']][0]\n",
    "method = ('IPCC 2013', 'climate change', 'GWP 100a')"
   ]
  },
  {
   "cell_type": "code",
   "execution_count": 4,
   "metadata": {},
   "outputs": [
    {
     "data": {
      "text/plain": [
       "0.13744708018975899"
      ]
     },
     "execution_count": 4,
     "metadata": {},
     "output_type": "execute_result"
    }
   ],
   "source": [
    "# Save initial LCA score\n",
    "lca = bw.LCA({demand_act: 1}, method)\n",
    "lca.lci()\n",
    "lca.lcia()\n",
    "initial_score = deepcopy(lca.score)\n",
    "initial_score"
   ]
  },
  {
   "cell_type": "markdown",
   "metadata": {},
   "source": [
    "### Goal: replace electricity market in demand with some other electricity market.\n",
    "In the following you can see my highly inefficient implementation."
   ]
  },
  {
   "cell_type": "code",
   "execution_count": 5,
   "metadata": {},
   "outputs": [
    {
     "data": {
      "text/plain": [
       "'market for electricity, medium voltage' (kilowatt hour, CH, None)"
      ]
     },
     "execution_count": 5,
     "metadata": {},
     "output_type": "execute_result"
    }
   ],
   "source": [
    "for exc in demand_act.exchanges():\n",
    "    if 'market for electricity, medium voltage' == exc.input['name']:\n",
    "        initial_electricity_market = exc.input\n",
    "        break\n",
    "initial_electricity_market"
   ]
  },
  {
   "cell_type": "code",
   "execution_count": 6,
   "metadata": {},
   "outputs": [
    {
     "data": {
      "text/plain": [
       "'market for electricity, medium voltage' (kilowatt hour, DE, None)"
      ]
     },
     "execution_count": 6,
     "metadata": {},
     "output_type": "execute_result"
    }
   ],
   "source": [
    "other_electricity_market = [act for act in ei if 'market for electricity, medium voltage' == act['name'] \n",
    "                            and 'DE' in act['location']][0]\n",
    "other_electricity_market"
   ]
  },
  {
   "cell_type": "code",
   "execution_count": 7,
   "metadata": {},
   "outputs": [],
   "source": [
    "def replace_exchange(act, act_prev, act_curr):\n",
    "    '''\n",
    "    act: output activity\n",
    "    act_prev: exchange that needs to be deleted in `act`\n",
    "    act_curr: new exchange that needs to be added instead to `act`\n",
    "    '''\n",
    "    for exc in act.exchanges():\n",
    "        if act_prev['name'] in exc.input['name']:\n",
    "            print('Replacing an exchange')\n",
    "            amount = exc['amount']\n",
    "            exc.delete()\n",
    "            act.new_exchange(\n",
    "                input = (act_curr['database'], act_curr['code']), \n",
    "                amount = amount, \n",
    "                type= \"technosphere\"\n",
    "            ).save()\n",
    "            break"
   ]
  },
  {
   "cell_type": "code",
   "execution_count": 8,
   "metadata": {},
   "outputs": [
    {
     "name": "stdout",
     "output_type": "stream",
     "text": [
      "Replacing an exchange\n",
      "0.14144139710362288\n",
      "CPU times: user 7.32 s, sys: 445 ms, total: 7.76 s\n",
      "Wall time: 7.38 s\n"
     ]
    }
   ],
   "source": [
    "%%time\n",
    "# Replace exchange once (MC iteration) and run lca to get the score\n",
    "replace_exchange(demand_act, initial_electricity_market, other_electricity_market)\n",
    "lca = bw.LCA({demand_act: 1}, method)\n",
    "lca.lci()\n",
    "lca.lcia()\n",
    "print(lca.score)"
   ]
  },
  {
   "cell_type": "code",
   "execution_count": 9,
   "metadata": {},
   "outputs": [
    {
     "name": "stdout",
     "output_type": "stream",
     "text": [
      "Replacing an exchange\n",
      "0.13744708018975899\n"
     ]
    }
   ],
   "source": [
    "%%time\n",
    "# Replace it back to have the same database after all MC iterations\n",
    "replace_exchange(demand_act, other_electricity_market, initial_electricity_market)\n",
    "lca = bw.LCA({demand_act: 1}, method)\n",
    "lca.lci()\n",
    "lca.lcia()\n",
    "print(lca.score)\n",
    "assert(lca.score==initial_score)"
   ]
  },
  {
   "cell_type": "markdown",
   "metadata": {},
   "source": [
    "### So we back to the initial score, but how to make it more efficient?\n",
    "Is there smth like lca.redo_lci? \n",
    "\n",
    "also, to do the replacement of exchanges, I always need to keep track of previous and current exchanges. <br>\n",
    "which is of course not nice, as this will break as soon as the user hits KeyboardInterrupt. then we would need to reimport the database, etc"
   ]
  },
  {
   "cell_type": "code",
   "execution_count": null,
   "metadata": {},
   "outputs": [],
   "source": []
  }
 ],
 "metadata": {
  "kernelspec": {
   "display_name": "Python 3",
   "language": "python",
   "name": "python3"
  },
  "language_info": {
   "codemirror_mode": {
    "name": "ipython",
    "version": 3
   },
   "file_extension": ".py",
   "mimetype": "text/x-python",
   "name": "python",
   "nbconvert_exporter": "python",
   "pygments_lexer": "ipython3",
   "version": "3.7.6"
  },
  "varInspector": {
   "cols": {
    "lenName": 16,
    "lenType": 16,
    "lenVar": 40
   },
   "kernels_config": {
    "python": {
     "delete_cmd_postfix": "",
     "delete_cmd_prefix": "del ",
     "library": "var_list.py",
     "varRefreshCmd": "print(var_dic_list())"
    },
    "r": {
     "delete_cmd_postfix": ") ",
     "delete_cmd_prefix": "rm(",
     "library": "var_list.r",
     "varRefreshCmd": "cat(var_dic_list()) "
    }
   },
   "types_to_exclude": [
    "module",
    "function",
    "builtin_function_or_method",
    "instance",
    "_Feature"
   ],
   "window_display": false
  }
 },
 "nbformat": 4,
 "nbformat_minor": 4
}
