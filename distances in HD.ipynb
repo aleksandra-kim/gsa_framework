{
 "cells": [
  {
   "cell_type": "code",
   "execution_count": null,
   "metadata": {},
   "outputs": [],
   "source": [
    "import numpy as np\n",
    "import os\n",
    "import plotly.graph_objects as go\n",
    "\n",
    "# Distance measures\n",
    "from scipy.spatial.distance import pdist"
   ]
  },
  {
   "cell_type": "code",
   "execution_count": null,
   "metadata": {},
   "outputs": [],
   "source": [
    "distance_metrics = {\n",
    "    'euclidean': 'Euclidean', \n",
    "    'minkowski': 'Minkowski, or p-norm (here p=3)',\n",
    "    'cityblock': 'Manhattan',\n",
    "    'correlation': 'Correlation', \n",
    "    'cosine': 'Cosine',\n",
    "    'chebyshev': 'Chebyshev, or 1-norm',\n",
    "    'braycurtis': 'Bray-Curtis',\n",
    "    'mahalanobis': 'Mahalanobis',\n",
    "    'jensenshannon': 'Jensen-Shannon', \n",
    "}"
   ]
  },
  {
   "cell_type": "code",
   "execution_count": null,
   "metadata": {},
   "outputs": [],
   "source": [
    "%%time\n",
    "# Lets take points on a hypercube\n",
    "\n",
    "dimensions = np.arange(50,500,50)\n",
    "n_points = max(dimensions) * 2\n",
    "n_dimensions = len(dimensions)\n",
    "\n",
    "# Generate input data\n",
    "X = {}\n",
    "for dim in dimensions:\n",
    "    X[dim] = np.random.rand(n_points,dim)\n",
    "    \n",
    "# Compute all kinds of distances\n",
    "distances_dict = {}\n",
    "for dim in dimensions:\n",
    "    print(dim)\n",
    "    dict_ = {}\n",
    "    for metric in distance_metrics.keys():\n",
    "        print(metric)\n",
    "        if metric == 'minkowski':\n",
    "            dict_[metric] = pdist(X[dim], metric, p=3)\n",
    "        else:\n",
    "            dict_[metric] = pdist(X[dim], metric)\n",
    "    distances_dict[dim] = dict_"
   ]
  },
  {
   "cell_type": "code",
   "execution_count": null,
   "metadata": {},
   "outputs": [],
   "source": [
    "ratio_dict = {}\n",
    "for metric in distance_metrics.keys():\n",
    "    min_ = np.zeros(n_dimensions)\n",
    "    max_ = np.zeros(n_dimensions)\n",
    "    ratio = np.zeros(n_dimensions)\n",
    "    for d,dim in enumerate(dimensions):\n",
    "        y = distances_dict[dim][metric]\n",
    "        ratio[d] = (np.max(y)-np.min(y))/np.min(y)\n",
    "    ratio_dict[metric] = ratio"
   ]
  },
  {
   "cell_type": "code",
   "execution_count": null,
   "metadata": {},
   "outputs": [],
   "source": [
    "fig = go.Figure()\n",
    "\n",
    "for metric in distance_metrics.keys():\n",
    "    fig.add_trace(\n",
    "        go.Scatter(\n",
    "            x = dimensions,\n",
    "            y = ratio_dict[metric],\n",
    "            mode = 'markers+lines',\n",
    "            name=distance_metrics[metric],\n",
    "        )\n",
    "    )\n",
    "\n",
    "fig.update_layout(\n",
    "    width=700,\n",
    "    height=400,\n",
    "    xaxis_title=\"Dimensionality of the space, k\",\n",
    "    yaxis_title='$(dist_{\\max}^k-dist_{\\min}^k) \\ / \\ dist_{\\min}^k$',\n",
    ")\n",
    "\n",
    "fig.show()\n",
    "fig.write_image(os.path.join('write_files', 'figures', 'Distances_high_dim.jpg'))"
   ]
  },
  {
   "cell_type": "code",
   "execution_count": null,
   "metadata": {},
   "outputs": [],
   "source": []
  },
  {
   "cell_type": "code",
   "execution_count": null,
   "metadata": {},
   "outputs": [],
   "source": []
  },
  {
   "cell_type": "code",
   "execution_count": null,
   "metadata": {},
   "outputs": [],
   "source": []
  },
  {
   "cell_type": "code",
   "execution_count": null,
   "metadata": {},
   "outputs": [],
   "source": []
  },
  {
   "cell_type": "code",
   "execution_count": null,
   "metadata": {},
   "outputs": [],
   "source": []
  },
  {
   "cell_type": "code",
   "execution_count": null,
   "metadata": {},
   "outputs": [],
   "source": []
  },
  {
   "cell_type": "code",
   "execution_count": null,
   "metadata": {},
   "outputs": [],
   "source": []
  },
  {
   "cell_type": "code",
   "execution_count": null,
   "metadata": {},
   "outputs": [],
   "source": []
  },
  {
   "cell_type": "code",
   "execution_count": null,
   "metadata": {},
   "outputs": [],
   "source": []
  },
  {
   "cell_type": "code",
   "execution_count": null,
   "metadata": {},
   "outputs": [],
   "source": []
  }
 ],
 "metadata": {
  "kernelspec": {
   "display_name": "Python 3",
   "language": "python",
   "name": "python3"
  },
  "language_info": {
   "codemirror_mode": {
    "name": "ipython",
    "version": 3
   },
   "file_extension": ".py",
   "mimetype": "text/x-python",
   "name": "python",
   "nbconvert_exporter": "python",
   "pygments_lexer": "ipython3",
   "version": "3.7.6"
  },
  "varInspector": {
   "cols": {
    "lenName": 16,
    "lenType": 16,
    "lenVar": 40
   },
   "kernels_config": {
    "python": {
     "delete_cmd_postfix": "",
     "delete_cmd_prefix": "del ",
     "library": "var_list.py",
     "varRefreshCmd": "print(var_dic_list())"
    },
    "r": {
     "delete_cmd_postfix": ") ",
     "delete_cmd_prefix": "rm(",
     "library": "var_list.r",
     "varRefreshCmd": "cat(var_dic_list()) "
    }
   },
   "types_to_exclude": [
    "module",
    "function",
    "builtin_function_or_method",
    "instance",
    "_Feature"
   ],
   "window_display": false
  }
 },
 "nbformat": 4,
 "nbformat_minor": 4
}
